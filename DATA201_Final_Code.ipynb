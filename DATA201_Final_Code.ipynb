{
 "cells": [
  {
   "cell_type": "code",
   "execution_count": null,
   "metadata": {
    "vscode": {
     "languageId": "r"
    }
   },
   "outputs": [],
   "source": [
    "# this section is just gettign all of the liabarys that are needed \n",
    "library(tidyverse)\n",
    "library(rvest)\n",
    "library(polite) # this library is jsut a better version of the rvest library \n",
    "library(xml2) # makes it easier to work with HTML and XML from R\n",
    "library(glue)\n",
    "library(purrr)"
   ]
  },
  {
   "cell_type": "code",
   "execution_count": 12,
   "metadata": {
    "vscode": {
     "languageId": "r"
    }
   },
   "outputs": [],
   "source": [
    "# The Neat Places website URL\n",
    "url <- \"https://neatplaces.co.nz/places/christchurch-canterbury/eat-drink/cafes\"\n",
    "\n",
    "# The Neat Places website HTML\n",
    "page <- read_html(url)\n",
    "\n",
    "# Vector of Christchurch cafe names\n",
    "# Scans the page HTML for the specified node and returns the text\n",
    "cafe_name <- page %>% \n",
    "   html_nodes(\".list-item-title\") %>% \n",
    "   html_text()\n",
    "\n",
    "# Dataframe of Christchurch cafe names\n",
    "cafe_names <- tibble(cafe_name)\n",
    "\n",
    "# Vector of Christchurch cafe descriptions\n",
    "summary <- page %>%\n",
    "  html_nodes(\".summary\") %>%\n",
    "  html_text()\n",
    "\n",
    "# Vector of links to each of the cafes\n",
    "# Searches for specified node and HREFhref attribute to get links\n",
    "link <- page %>% \n",
    "  html_nodes(\".list-item a\") %>% \n",
    "  html_attr('href')\n",
    "\n",
    "# Dataframe of cafe names and related page link\n",
    "link_table <- tibble(cafe_name, link)"
   ]
  },
  {
   "cell_type": "code",
   "execution_count": 13,
   "metadata": {
    "vscode": {
     "languageId": "r"
    }
   },
   "outputs": [
    {
     "data": {
      "text/html": [
       "<style>\n",
       ".list-inline {list-style: none; margin:0; padding: 0}\n",
       ".list-inline>li {display: inline-block}\n",
       ".list-inline>li:not(:last-child)::after {content: \"\\00b7\"; padding: 0 .5ex}\n",
       "</style>\n",
       "<ol class=list-inline><li>'Völla Café'</li><li>'Little Rosie'</li><li>'Bandung Café'</li><li>'Vaniyé Pâtisserie'</li><li>'Atelier Shu'</li><li>'Mr T\\'s Baked Goods &amp; Eatery'</li><li>'Crave'</li><li>'Red Rabbit'</li><li>'Eighthirty'</li><li>'Odettes'</li><li>'Peel to Pip'</li><li>'Remedy Coffee'</li><li>'The Return of Rad'</li><li>'Street Organics'</li><li>'Bowl and Arrow'</li><li>'The Book Exchange'</li><li>'Dizengoff'</li><li>'Bestie'</li><li>'Three Beans Coffee Roasters'</li><li>'Allpress Ponsonby'</li><li>'Dear Jervois'</li><li>'Espresso Workshop (Britomart)'</li><li>'Little Bird Kitchen'</li><li>'Queenies'</li><li>'Petit Bocal'</li><li>'Homestead Café'</li><li>'Best Ugly Bagels Auckland'</li><li>'Good Day'</li><li>'Allpress Auckland Roastery'</li><li>'The Raw Kitchen'</li><li>'Goodness Gracious Café'</li><li>'The Kimchi Project'</li></ol>\n"
      ],
      "text/latex": [
       "\\begin{enumerate*}\n",
       "\\item 'Völla Café'\n",
       "\\item 'Little Rosie'\n",
       "\\item 'Bandung Café'\n",
       "\\item 'Vaniyé Pâtisserie'\n",
       "\\item 'Atelier Shu'\n",
       "\\item 'Mr T\\textbackslash{}'s Baked Goods \\& Eatery'\n",
       "\\item 'Crave'\n",
       "\\item 'Red Rabbit'\n",
       "\\item 'Eighthirty'\n",
       "\\item 'Odettes'\n",
       "\\item 'Peel to Pip'\n",
       "\\item 'Remedy Coffee'\n",
       "\\item 'The Return of Rad'\n",
       "\\item 'Street Organics'\n",
       "\\item 'Bowl and Arrow'\n",
       "\\item 'The Book Exchange'\n",
       "\\item 'Dizengoff'\n",
       "\\item 'Bestie'\n",
       "\\item 'Three Beans Coffee Roasters'\n",
       "\\item 'Allpress Ponsonby'\n",
       "\\item 'Dear Jervois'\n",
       "\\item 'Espresso Workshop (Britomart)'\n",
       "\\item 'Little Bird Kitchen'\n",
       "\\item 'Queenies'\n",
       "\\item 'Petit Bocal'\n",
       "\\item 'Homestead Café'\n",
       "\\item 'Best Ugly Bagels Auckland'\n",
       "\\item 'Good Day'\n",
       "\\item 'Allpress Auckland Roastery'\n",
       "\\item 'The Raw Kitchen'\n",
       "\\item 'Goodness Gracious Café'\n",
       "\\item 'The Kimchi Project'\n",
       "\\end{enumerate*}\n"
      ],
      "text/markdown": [
       "1. 'Völla Café'\n",
       "2. 'Little Rosie'\n",
       "3. 'Bandung Café'\n",
       "4. 'Vaniyé Pâtisserie'\n",
       "5. 'Atelier Shu'\n",
       "6. 'Mr T\\'s Baked Goods &amp; Eatery'\n",
       "7. 'Crave'\n",
       "8. 'Red Rabbit'\n",
       "9. 'Eighthirty'\n",
       "10. 'Odettes'\n",
       "11. 'Peel to Pip'\n",
       "12. 'Remedy Coffee'\n",
       "13. 'The Return of Rad'\n",
       "14. 'Street Organics'\n",
       "15. 'Bowl and Arrow'\n",
       "16. 'The Book Exchange'\n",
       "17. 'Dizengoff'\n",
       "18. 'Bestie'\n",
       "19. 'Three Beans Coffee Roasters'\n",
       "20. 'Allpress Ponsonby'\n",
       "21. 'Dear Jervois'\n",
       "22. 'Espresso Workshop (Britomart)'\n",
       "23. 'Little Bird Kitchen'\n",
       "24. 'Queenies'\n",
       "25. 'Petit Bocal'\n",
       "26. 'Homestead Café'\n",
       "27. 'Best Ugly Bagels Auckland'\n",
       "28. 'Good Day'\n",
       "29. 'Allpress Auckland Roastery'\n",
       "30. 'The Raw Kitchen'\n",
       "31. 'Goodness Gracious Café'\n",
       "32. 'The Kimchi Project'\n",
       "\n",
       "\n"
      ],
      "text/plain": [
       " [1] \"Völla Café\"                    \"Little Rosie\"                 \n",
       " [3] \"Bandung Café\"                  \"Vaniyé Pâtisserie\"            \n",
       " [5] \"Atelier Shu\"                   \"Mr T's Baked Goods & Eatery\"  \n",
       " [7] \"Crave\"                         \"Red Rabbit\"                   \n",
       " [9] \"Eighthirty\"                    \"Odettes\"                      \n",
       "[11] \"Peel to Pip\"                   \"Remedy Coffee\"                \n",
       "[13] \"The Return of Rad\"             \"Street Organics\"              \n",
       "[15] \"Bowl and Arrow\"                \"The Book Exchange\"            \n",
       "[17] \"Dizengoff\"                     \"Bestie\"                       \n",
       "[19] \"Three Beans Coffee Roasters\"   \"Allpress Ponsonby\"            \n",
       "[21] \"Dear Jervois\"                  \"Espresso Workshop (Britomart)\"\n",
       "[23] \"Little Bird Kitchen\"           \"Queenies\"                     \n",
       "[25] \"Petit Bocal\"                   \"Homestead Café\"               \n",
       "[27] \"Best Ugly Bagels Auckland\"     \"Good Day\"                     \n",
       "[29] \"Allpress Auckland Roastery\"    \"The Raw Kitchen\"              \n",
       "[31] \"Goodness Gracious Café\"        \"The Kimchi Project\"           "
      ]
     },
     "metadata": {},
     "output_type": "display_data"
    }
   ],
   "source": [
    "# Function which outputs data for different places in nz as a search option\n",
    "# Takes in a city in NZ and returns its avalable cafes\n",
    "change_place <- function(place_name) {\n",
    "    # Converts given place name to URL format\n",
    "    url_name <- place_name %>%\n",
    "        tolower() %>% \n",
    "        str_replace_all(\" & \", \"-\") %>%\n",
    "        str_replace_all(\" \", \"-\") %>%\n",
    "        str_replace_all(\"ō\", \"o\") %>%\n",
    "        str_replace_all(\"ā\", \"a\")\n",
    "    \n",
    "    # The generated URL\n",
    "    new_url <- glue(\"https://neatplaces.co.nz/places/{url_name}/eat-drink/cafes\") \n",
    "\n",
    "    # The page HTML of the generated URL\n",
    "    page <- read_html(new_url) \n",
    "    \n",
    "    # Vector of the cafe names\n",
    "    cafe_data <- page %>% \n",
    "        html_nodes(\".list-item-title p\") %>%\n",
    "        html_text()\n",
    "\n",
    "    return(cafe_data)\n",
    "}\n",
    "\n",
    "# Returns vector of Auckland cafes\n",
    "change_place(\"Auckland\")        "
   ]
  },
  {
   "cell_type": "code",
   "execution_count": null,
   "metadata": {
    "vscode": {
     "languageId": "r"
    }
   },
   "outputs": [],
   "source": []
  }
 ],
 "metadata": {
  "kernelspec": {
   "display_name": "R",
   "language": "R",
   "name": "ir"
  },
  "language_info": {
   "codemirror_mode": "r",
   "file_extension": ".r",
   "mimetype": "text/x-r-source",
   "name": "R",
   "pygments_lexer": "r",
   "version": "4.2.1"
  },
  "orig_nbformat": 4
 },
 "nbformat": 4,
 "nbformat_minor": 2
}
