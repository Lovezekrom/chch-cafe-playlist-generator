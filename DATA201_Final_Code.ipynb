{
 "cells": [
  {
   "cell_type": "code",
   "execution_count": null,
   "metadata": {
    "vscode": {
     "languageId": "r"
    }
   },
   "outputs": [],
   "source": [
    "# this section is just gettign all of the liabarys that are needed \n",
    "library(tidyverse)\n",
    "library(polite) # this library is jsut a better version of the rvest library \n",
    "library(xml2) # makes it easier to work with HTML and XML from R\n",
    "library(purrr) # to work with lists and map functions\n",
    "library(glue) # to paste strings\n",
    "library(rvest) # rvest makes scraping easier"
   ]
  },
  {
   "cell_type": "code",
   "execution_count": 12,
   "metadata": {
    "vscode": {
     "languageId": "r"
    }
   },
   "outputs": [],
   "source": [
    "# The Neat Places website URL\n",
    "url <- \"https://neatplaces.co.nz/places/christchurch-canterbury/eat-drink/cafes\"\n",
    "\n",
    "# The Neat Places website HTML\n",
    "page <- read_html(url)\n",
    "\n",
    "# Vector of Christchurch cafe names\n",
    "# Scans the page HTML for the specified node and returns the text\n",
    "cafe_name <- page %>% \n",
    "   html_nodes(\".list-item-title\") %>% \n",
    "   html_text()\n",
    "\n",
    "# Dataframe of Christchurch cafe names\n",
    "cafe_names <- tibble(cafe_name)\n",
    "\n",
    "# Vector of Christchurch cafe descriptions\n",
    "summary <- page %>%\n",
    "  html_nodes(\".summary\") %>%\n",
    "  html_text()\n",
    "\n",
    "# Vector of links to each of the cafes\n",
    "# Searches for specified node and HREFhref attribute to get links\n",
    "link <- page %>% \n",
    "  html_nodes(\".list-item a\") %>% \n",
    "  html_attr('href')\n",
    "\n",
    "# Dataframe of cafe names and related page link\n",
    "link_table <- tibble(cafe_name, link)"
   ]
  },
  {
   "cell_type": "code",
   "execution_count": 31,
   "metadata": {
    "vscode": {
     "languageId": "r"
    }
   },
   "outputs": [],
   "source": [
    "# Function which outputs data for different places in nz as a search option\n",
    "# Takes in a city in NZ and returns its avalable cafes\n",
    "change_place <- function(place_name) {\n",
    "    # Converts given place name to URL format\n",
    "    url_name <- place_name %>%\n",
    "        tolower() %>% \n",
    "        str_replace_all(\" & \", \"-\") %>%\n",
    "        str_replace_all(\" \", \"-\") %>%\n",
    "        str_replace_all(\"ō\", \"o\") %>%\n",
    "        str_replace_all(\"ā\", \"a\")\n",
    "    \n",
    "    # The generated URL\n",
    "    new_url <- glue(\"https://neatplaces.co.nz/places/{url_name}/eat-drink/cafes\") \n",
    "\n",
    "    # The page HTML of the generated URL\n",
    "    page <- read_html(new_url) \n",
    "    \n",
    "    # Vector of the cafe names\n",
    "    cafe_data <- page %>% \n",
    "        html_nodes(\".list-item-title p\") %>%\n",
    "        html_text()\n",
    "\n",
    "    return(cafe_data)\n",
    "}     "
   ]
  },
  {
   "cell_type": "code",
   "execution_count": 14,
   "metadata": {
    "vscode": {
     "languageId": "r"
    }
   },
   "outputs": [],
   "source": [
    "# The AudioCulture website in html\n",
    "audio_culture_page = read_html(\"https://www.audioculture.co.nz/music_index?category=Person\")\n",
    "\n",
    "# Profile names\n",
    "Profiles = audio_culture_page %>% html_nodes(\".skippy-col-link\") %>% html_text()\n",
    "\n",
    "# Profile links\n",
    "Links = audio_culture_page %>% html_nodes(\".skippy-col-link\") %>% html_attr('href')\n",
    "\n",
    "# Dataframe of profile and associated link\n",
    "df = data.frame(Profiles, Links)"
   ]
  },
  {
   "cell_type": "code",
   "execution_count": 28,
   "metadata": {
    "vscode": {
     "languageId": "r"
    }
   },
   "outputs": [],
   "source": [
    "# Prints NZ music profiles based on chars of given string\n",
    "create_profile_list = function(cafe_name) {\n",
    "    # Removes special symbols and whitespace from string\n",
    "    cleaned_string = gsub(\"([^A-Za-z0-9])+\", \"\", \n",
    "        cafe_name %>% \n",
    "        str_replace_all(\"é\", \"e\") %>%\n",
    "        str_replace_all(\"ō\", \"o\") %>%\n",
    "        str_replace_all(\"ā\", \"a\"))\n",
    "\n",
    "    # Splits string into list for iteration\n",
    "    char_list = strsplit(cleaned_string, \"\")[[1]]\n",
    "\n",
    "    # The list of NZ profiles based on cafe name\n",
    "    profile_list = data.frame()\n",
    "    \n",
    "    # Iterate through every char in the given string\n",
    "    for (char in char_list) {\n",
    "        # Converts char into upper case for REGEX pattern\n",
    "        upper_char = toupper(char)\n",
    "\n",
    "        # Converts char into lower case for REGEX pattern\n",
    "        lower_char = tolower(char)\n",
    "\n",
    "        # Creates list of profiles that match REGEX pattern (Starts with given char)\n",
    "        match_list = grep(glue('^[{upper_char}{lower_char}]'), Profiles, value = TRUE)\n",
    "        \n",
    "        # If the match list is not empty choose random profile from match list\n",
    "        if (length(match_list) != 0) {\n",
    "                \n",
    "            # Does at most 5 attempts to find at least 1 album from a profile\n",
    "            for (i in 1:5) {\n",
    "                # Randomly selected profile\n",
    "                profile_match = sample(match_list, 1)\n",
    "\n",
    "                # The profile's discography\n",
    "                profile_discography = get_discography(profile_match)\n",
    "                \n",
    "                if (nrow(profile_discography) >= 1) {\n",
    "                    break()\n",
    "                }\n",
    "            }\n",
    "\n",
    "            # Sometimes profiles have empty discographies\n",
    "            if (nrow(profile_discography) == 0) {\n",
    "                profile_album = data.frame(Character = upper_char, \n",
    "                                           Profile = profile_match, \n",
    "                                           Album = NA_character_, \n",
    "                                           Featuring = NA_character_, \n",
    "                                           Year = NA_real_)\n",
    "            } else {\n",
    "                # profile_album_index = match(profile_discography[3] >= 2010)[2]\n",
    "\n",
    "\n",
    "                # Randomly selects album index from discography\n",
    "                profile_album_index = sample(nrow(profile_discography), 1) \n",
    "\n",
    "                # Create data frame entry for profile_lsit\n",
    "                profile_album = merge((data.frame(Character = upper_char, Profile = profile_match)), \n",
    "                                      (profile_discography[profile_album_index,]))\n",
    "            }\n",
    "            \n",
    "        } else {\n",
    "            # If no match, create empty data frame entry for profile_list\n",
    "            profile_album = data.frame(Character = upper_char, \n",
    "                                       Profile = NA_character_, \n",
    "                                       Album = NA_character_, \n",
    "                                       Featuring = NA_character_, \n",
    "                                       Year = NA_real_)\n",
    "        }\n",
    "\n",
    "        # Appends profile_list with new profile\n",
    "        profile_list = rbind(profile_list, profile_album)\n",
    "    }\n",
    "\n",
    "    return(profile_list)\n",
    "}"
   ]
  },
  {
   "cell_type": "code",
   "execution_count": 29,
   "metadata": {
    "vscode": {
     "languageId": "r"
    }
   },
   "outputs": [],
   "source": [
    "# Takes a profile name as input\n",
    "# Returns given name's discography (currenly no error handling if name not in dataframe)\n",
    "get_discography = function(name) {\n",
    "    name_link = (df %>% filter(str_detect(Profiles, name)))[[2]][1]\n",
    "    \n",
    "    profile_discography_page = glue('https://www.audioculture.co.nz{name_link}/discography') %>% read_html()\n",
    "\n",
    "    Album     = profile_discography_page %>% html_nodes(\"[class='header']\") %>% html_text()\n",
    "    Featuring = profile_discography_page %>% html_nodes(\"[class='body']\")   %>% html_text()\n",
    "    Year      = profile_discography_page %>% html_nodes(\"[class='year']\")   %>% html_text() %>% as.numeric()\n",
    "    \n",
    "    # Replaces empty entries with NA\n",
    "    Album[Album == \"\"] = NA_character_\n",
    "\n",
    "    # Replaces empty entries with NA\n",
    "    Featuring[Featuring == \"\"] = NA_character_\n",
    "\n",
    "    # If the year length is less than 1000, replace with NA\n",
    "    Year[Year < 1000] = NA_real_\n",
    "    \n",
    "    # Data frame of the given profile's discography\n",
    "    discography_df = data.frame(Album, Featuring, Year)\n",
    "\n",
    "    return(discography_df %>% filter(Year >= 1000))\n",
    "}"
   ]
  },
  {
   "cell_type": "code",
   "execution_count": 34,
   "metadata": {
    "vscode": {
     "languageId": "r"
    }
   },
   "outputs": [
    {
     "name": "stdout",
     "output_type": "stream",
     "text": [
      "City: Auckland\n",
      "Cafe: Völla Café\n"
     ]
    },
    {
     "data": {
      "text/html": [
       "<table class=\"dataframe\">\n",
       "<caption>A data.frame: 9 × 5</caption>\n",
       "<thead>\n",
       "\t<tr><th scope=col>Character</th><th scope=col>Profile</th><th scope=col>Album</th><th scope=col>Featuring</th><th scope=col>Year</th></tr>\n",
       "\t<tr><th scope=col>&lt;chr&gt;</th><th scope=col>&lt;chr&gt;</th><th scope=col>&lt;chr&gt;</th><th scope=col>&lt;chr&gt;</th><th scope=col>&lt;dbl&gt;</th></tr>\n",
       "</thead>\n",
       "<tbody>\n",
       "\t<tr><td>V</td><td>Val Murphy         </td><td>My Way Of Singing                   </td><td>Val Murphy                           </td><td>1965</td></tr>\n",
       "\t<tr><td>O</td><td>Opshop             </td><td>{Fig.01. You Are Here               </td><td>Opshop                               </td><td>2004</td></tr>\n",
       "\t<tr><td>L</td><td>Living Force       </td><td>Living Force                        </td><td>Living Force                         </td><td>1977</td></tr>\n",
       "\t<tr><td>L</td><td>Loves Ugly Children</td><td>Personal World                      </td><td>Loves Ugly Children                  </td><td>1995</td></tr>\n",
       "\t<tr><td>A</td><td>Andre Upston       </td><td>Pretty Cool                         </td><td>Trip (10)                            </td><td>2002</td></tr>\n",
       "\t<tr><td>C</td><td>Cut Off Your Hands </td><td>Still Fond                          </td><td>Cut Off Your Hands                   </td><td>2007</td></tr>\n",
       "\t<tr><td>A</td><td>Alastair Galbraith </td><td><span style=white-space:pre-wrap>Timebomb                            </span></td><td>Alastair Galbraith &amp; Graeme Jefferies</td><td>1989</td></tr>\n",
       "\t<tr><td>F</td><td>Flesh D-Vice       </td><td>Hamburger II: The Night She Returned</td><td>Flesh D-Vice                         </td><td>1988</td></tr>\n",
       "\t<tr><td>E</td><td>Edmund Cake        </td><td>Downtown Puff                       </td><td>Edmund Cake                          </td><td>2005</td></tr>\n",
       "</tbody>\n",
       "</table>\n"
      ],
      "text/latex": [
       "A data.frame: 9 × 5\n",
       "\\begin{tabular}{lllll}\n",
       " Character & Profile & Album & Featuring & Year\\\\\n",
       " <chr> & <chr> & <chr> & <chr> & <dbl>\\\\\n",
       "\\hline\n",
       "\t V & Val Murphy          & My Way Of Singing                    & Val Murphy                            & 1965\\\\\n",
       "\t O & Opshop              & \\{Fig.01. You Are Here                & Opshop                                & 2004\\\\\n",
       "\t L & Living Force        & Living Force                         & Living Force                          & 1977\\\\\n",
       "\t L & Loves Ugly Children & Personal World                       & Loves Ugly Children                   & 1995\\\\\n",
       "\t A & Andre Upston        & Pretty Cool                          & Trip (10)                             & 2002\\\\\n",
       "\t C & Cut Off Your Hands  & Still Fond                           & Cut Off Your Hands                    & 2007\\\\\n",
       "\t A & Alastair Galbraith  & Timebomb                             & Alastair Galbraith \\& Graeme Jefferies & 1989\\\\\n",
       "\t F & Flesh D-Vice        & Hamburger II: The Night She Returned & Flesh D-Vice                          & 1988\\\\\n",
       "\t E & Edmund Cake         & Downtown Puff                        & Edmund Cake                           & 2005\\\\\n",
       "\\end{tabular}\n"
      ],
      "text/markdown": [
       "\n",
       "A data.frame: 9 × 5\n",
       "\n",
       "| Character &lt;chr&gt; | Profile &lt;chr&gt; | Album &lt;chr&gt; | Featuring &lt;chr&gt; | Year &lt;dbl&gt; |\n",
       "|---|---|---|---|---|\n",
       "| V | Val Murphy          | My Way Of Singing                    | Val Murphy                            | 1965 |\n",
       "| O | Opshop              | {Fig.01. You Are Here                | Opshop                                | 2004 |\n",
       "| L | Living Force        | Living Force                         | Living Force                          | 1977 |\n",
       "| L | Loves Ugly Children | Personal World                       | Loves Ugly Children                   | 1995 |\n",
       "| A | Andre Upston        | Pretty Cool                          | Trip (10)                             | 2002 |\n",
       "| C | Cut Off Your Hands  | Still Fond                           | Cut Off Your Hands                    | 2007 |\n",
       "| A | Alastair Galbraith  | Timebomb                             | Alastair Galbraith &amp; Graeme Jefferies | 1989 |\n",
       "| F | Flesh D-Vice        | Hamburger II: The Night She Returned | Flesh D-Vice                          | 1988 |\n",
       "| E | Edmund Cake         | Downtown Puff                        | Edmund Cake                           | 2005 |\n",
       "\n"
      ],
      "text/plain": [
       "  Character Profile             Album                               \n",
       "1 V         Val Murphy          My Way Of Singing                   \n",
       "2 O         Opshop              {Fig.01. You Are Here               \n",
       "3 L         Living Force        Living Force                        \n",
       "4 L         Loves Ugly Children Personal World                      \n",
       "5 A         Andre Upston        Pretty Cool                         \n",
       "6 C         Cut Off Your Hands  Still Fond                          \n",
       "7 A         Alastair Galbraith  Timebomb                            \n",
       "8 F         Flesh D-Vice        Hamburger II: The Night She Returned\n",
       "9 E         Edmund Cake         Downtown Puff                       \n",
       "  Featuring                             Year\n",
       "1 Val Murphy                            1965\n",
       "2 Opshop                                2004\n",
       "3 Living Force                          1977\n",
       "4 Loves Ugly Children                   1995\n",
       "5 Trip (10)                             2002\n",
       "6 Cut Off Your Hands                    2007\n",
       "7 Alastair Galbraith & Graeme Jefferies 1989\n",
       "8 Flesh D-Vice                          1988\n",
       "9 Edmund Cake                           2005"
      ]
     },
     "metadata": {},
     "output_type": "display_data"
    }
   ],
   "source": [
    "selected_city   = \"Auckland\"\n",
    "selected_cafes  = change_place(selected_city)\n",
    "selected_cafe   = selected_cafes[2]\n",
    "print(glue(\"City: {selected_city}\"))\n",
    "print(glue(\"Cafe: {selected_cafe}\"))\n",
    "create_profile_list(selected_cafe)"
   ]
  },
  {
   "cell_type": "code",
   "execution_count": null,
   "metadata": {
    "vscode": {
     "languageId": "r"
    }
   },
   "outputs": [],
   "source": []
  }
 ],
 "metadata": {
  "kernelspec": {
   "display_name": "R",
   "language": "R",
   "name": "ir"
  },
  "language_info": {
   "codemirror_mode": "r",
   "file_extension": ".r",
   "mimetype": "text/x-r-source",
   "name": "R",
   "pygments_lexer": "r",
   "version": "4.2.1"
  },
  "orig_nbformat": 4
 },
 "nbformat": 4,
 "nbformat_minor": 2
}
