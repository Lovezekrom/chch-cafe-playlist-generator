{
 "cells": [
  {
   "cell_type": "code",
   "execution_count": null,
   "metadata": {
    "vscode": {
     "languageId": "r"
    }
   },
   "outputs": [],
   "source": [
    "# this section is just gettign all of the liabarys that are needed \n",
    "library(tidyverse)\n",
    "library(rvest)\n",
    "library(polite) # this library is jsut a better version of the rvest library \n",
    "library(xml2) # makes it easier to work with HTML and XML from R\n",
    "library(glue)\n",
    "library(purrr)"
   ]
  }
 ],
 "metadata": {
  "kernelspec": {
   "display_name": "R",
   "language": "R",
   "name": "ir"
  },
  "language_info": {
   "name": "R"
  },
  "orig_nbformat": 4
 },
 "nbformat": 4,
 "nbformat_minor": 2
}
