{
 "cells": [
  {
   "cell_type": "code",
   "execution_count": 1,
   "metadata": {
    "vscode": {
     "languageId": "r"
    }
   },
   "outputs": [
    {
     "name": "stderr",
     "output_type": "stream",
     "text": [
      "── \u001b[1mAttaching packages\u001b[22m ─────────────────────────────────────────────────────────────────────────────── tidyverse 1.3.2 ──\n",
      "\u001b[32m✔\u001b[39m \u001b[34mggplot2\u001b[39m 3.3.6     \u001b[32m✔\u001b[39m \u001b[34mpurrr  \u001b[39m 0.3.4\n",
      "\u001b[32m✔\u001b[39m \u001b[34mtibble \u001b[39m 3.1.7     \u001b[32m✔\u001b[39m \u001b[34mdplyr  \u001b[39m 1.0.9\n",
      "\u001b[32m✔\u001b[39m \u001b[34mtidyr  \u001b[39m 1.2.0     \u001b[32m✔\u001b[39m \u001b[34mstringr\u001b[39m 1.4.0\n",
      "\u001b[32m✔\u001b[39m \u001b[34mreadr  \u001b[39m 2.1.2     \u001b[32m✔\u001b[39m \u001b[34mforcats\u001b[39m 0.5.1\n",
      "── \u001b[1mConflicts\u001b[22m ────────────────────────────────────────────────────────────────────────────────── tidyverse_conflicts() ──\n",
      "\u001b[31m✖\u001b[39m \u001b[34mdplyr\u001b[39m::\u001b[32mfilter()\u001b[39m masks \u001b[34mstats\u001b[39m::filter()\n",
      "\u001b[31m✖\u001b[39m \u001b[34mdplyr\u001b[39m::\u001b[32mlag()\u001b[39m    masks \u001b[34mstats\u001b[39m::lag()\n",
      "\n",
      "Attaching package: 'magrittr'\n",
      "\n",
      "\n",
      "The following object is masked from 'package:purrr':\n",
      "\n",
      "    set_names\n",
      "\n",
      "\n",
      "The following object is masked from 'package:tidyr':\n",
      "\n",
      "    extract\n",
      "\n",
      "\n",
      "\n",
      "Attaching package: 'rvest'\n",
      "\n",
      "\n",
      "The following object is masked from 'package:readr':\n",
      "\n",
      "    guess_encoding\n",
      "\n",
      "\n"
     ]
    }
   ],
   "source": [
    "# install.packages(\"magrittr\")\n",
    "# install.packages(\"purrr\")\n",
    "# install.packages(\"glue\")\n",
    "# install.packages(\"stringr\")\n",
    "\n",
    "# install.packages(\"devtools\")\n",
    "# devtools::install_github(\"soodoku/tuber\", build_vignettes = FALSE)\n",
    "library(tuber)\n",
    "library(tidyverse)\n",
    "library(magrittr) # better handling of pipes\n",
    "library(purrr) # to work with lists and map functions\n",
    "library(glue) # to paste strings\n",
    "library(stringr) # to hand strings\n",
    "library(rvest) # rvest makes scraping easier\n",
    "library(polite) # polite is the \"polite\" version of rvest\n",
    "library(xml2) # makes it easier to work with HTML and XML from R"
   ]
  },
  {
   "cell_type": "code",
   "execution_count": 2,
   "metadata": {
    "vscode": {
     "languageId": "r"
    }
   },
   "outputs": [],
   "source": [
    "# The website in html\n",
    "page = read_html(\"https://www.audioculture.co.nz/music_index?category=Person\")\n",
    "\n",
    "# Profile names\n",
    "Profile = page %>% html_nodes(\".skippy-col-link\") %>% html_text()\n",
    "\n",
    "# Profile links\n",
    "Link = page %>% html_nodes(\".skippy-col-link\") %>% html_attr('href')\n",
    "\n",
    "# Dataframe of profile and associated link\n",
    "df = data.frame(Profile, Link)\n",
    "\n",
    "# Prints NZ music profiles based on chars of given string\n",
    "create_profile_list = function(cafe_name) {\n",
    "    # Removes special symbols and whitespace from string\n",
    "    cleaned_string = gsub(\"([^A-Za-z0-9])+\", \"\", cafe_name)\n",
    "\n",
    "    # Splits string into list for iteration\n",
    "    char_list = strsplit(cleaned_string, \"\")[[1]]\n",
    "\n",
    "    # The list of NZ profiles based on cafe name\n",
    "    profile_list = list()\n",
    "\n",
    "    for (char in char_list) {\n",
    "        # Converts char into upper case for REGEX pattern\n",
    "        upper_char = toupper(char)\n",
    "\n",
    "        # Converts char into lower case for REGEX pattern\n",
    "        lower_char = tolower(char)\n",
    "\n",
    "        # Creates list of profiles that match REGEX pattern (Starts with given char)\n",
    "        match_list = grep(glue('^[{upper_char}{lower_char}]'), Profile, value = TRUE)\n",
    "\n",
    "        # If the match list is not empty choose random profile from match list\n",
    "        if (length(match_list) != 0) {\n",
    "            profile_list = append(profile_list, sample(match_list, 1))\n",
    "        }\n",
    "    }\n",
    "\n",
    "    return(profile_list)\n",
    "}\n",
    "\n",
    "# Takes a profile link as input\n",
    "# Returns profile's discography with featuring artists as a dataframe\n",
    "get_discography = function(x) {\n",
    "    profile_discography_page = glue('https://www.audioculture.co.nz{x}/discography') %>% read_html()\n",
    "\n",
    "    Album     = profile_discography_page %>% html_nodes(\"[class='header']\") %>% html_text()\n",
    "    Featuring = profile_discography_page %>% html_nodes(\"[class='body']\")   %>% html_text()\n",
    "    Year      = profile_discography_page %>% html_nodes(\"[class='year']\")   %>% html_text()\n",
    "\n",
    "    return(data.frame(Album, Featuring, Year))\n",
    "}\n",
    "\n",
    "# Takes a profile name as input\n",
    "# Returns given name's discography (currenly no error handling if name not in dataframe)\n",
    "search_profile = function(name) {\n",
    "    name_link = (df %>% filter(str_detect(Profile, name)))[[2]]\n",
    "\n",
    "    return(get_discography(name_link))\n",
    "}"
   ]
  },
  {
   "cell_type": "code",
   "execution_count": 3,
   "metadata": {
    "vscode": {
     "languageId": "r"
    }
   },
   "outputs": [
    {
     "data": {
      "text/html": [
       "<ol>\n",
       "\t<li>'Bob Paris'</li>\n",
       "\t<li>'Opensouls'</li>\n",
       "\t<li>'Ngaire'</li>\n",
       "\t<li>'Overlanders, The'</li>\n",
       "\t<li>'Bruce \"Phantom\" Robinson'</li>\n",
       "\t<li>'Overlanders, The'</li>\n",
       "\t<li>'Carol Davies'</li>\n",
       "\t<li>'Alan Moon'</li>\n",
       "\t<li>'Freddie Keil and the Kavaliers'</li>\n",
       "</ol>\n"
      ],
      "text/latex": [
       "\\begin{enumerate}\n",
       "\\item 'Bob Paris'\n",
       "\\item 'Opensouls'\n",
       "\\item 'Ngaire'\n",
       "\\item 'Overlanders, The'\n",
       "\\item 'Bruce \"Phantom\" Robinson'\n",
       "\\item 'Overlanders, The'\n",
       "\\item 'Carol Davies'\n",
       "\\item 'Alan Moon'\n",
       "\\item 'Freddie Keil and the Kavaliers'\n",
       "\\end{enumerate}\n"
      ],
      "text/markdown": [
       "1. 'Bob Paris'\n",
       "2. 'Opensouls'\n",
       "3. 'Ngaire'\n",
       "4. 'Overlanders, The'\n",
       "5. 'Bruce \"Phantom\" Robinson'\n",
       "6. 'Overlanders, The'\n",
       "7. 'Carol Davies'\n",
       "8. 'Alan Moon'\n",
       "9. 'Freddie Keil and the Kavaliers'\n",
       "\n",
       "\n"
      ],
      "text/plain": [
       "[[1]]\n",
       "[1] \"Bob Paris\"\n",
       "\n",
       "[[2]]\n",
       "[1] \"Opensouls\"\n",
       "\n",
       "[[3]]\n",
       "[1] \"Ngaire\"\n",
       "\n",
       "[[4]]\n",
       "[1] \"Overlanders, The\"\n",
       "\n",
       "[[5]]\n",
       "[1] \"Bruce \\\"Phantom\\\" Robinson\"\n",
       "\n",
       "[[6]]\n",
       "[1] \"Overlanders, The\"\n",
       "\n",
       "[[7]]\n",
       "[1] \"Carol Davies\"\n",
       "\n",
       "[[8]]\n",
       "[1] \"Alan Moon\"\n",
       "\n",
       "[[9]]\n",
       "[1] \"Freddie Keil and the Kavaliers\"\n"
      ]
     },
     "metadata": {},
     "output_type": "display_data"
    }
   ],
   "source": [
    "create_profile_list('Bonobo Café')"
   ]
  },
  {
   "cell_type": "code",
   "execution_count": 4,
   "metadata": {
    "vscode": {
     "languageId": "r"
    }
   },
   "outputs": [
    {
     "ename": "ERROR",
     "evalue": "Error in initialize(...): Failed to create server\n",
     "output_type": "error",
     "traceback": [
      "Error in initialize(...): Failed to create server\nTraceback:\n",
      "1. yt_oauth(\"393819432447-99ogldra4adjr3ft0kj1it56hu0tm7m1.apps.googleusercontent.com\", \n .     \"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\", token = \"\")",
      "2. oauth2.0_token(oauth_endpoints(\"google\"), myapp, scope = scope_url, \n .     ...)",
      "3. Token2.0$new(app = app, endpoint = endpoint, params = params, \n .     credentials = credentials, cache_path = if (is.null(credentials)) cache else FALSE)",
      "4. initialize(...)",
      "5. self$init_credentials()",
      "6. init_oauth2.0(self$endpoint, self$app, scope = self$params$scope, \n .     user_params = self$params$user_params, type = self$params$type, \n .     use_oob = self$params$use_oob, oob_value = self$params$oob_value, \n .     use_basic_auth = self$params$use_basic_auth, config_init = self$params$config_init, \n .     client_credentials = self$params$client_credentials, query_authorize_extra = self$params$query_authorize_extra)",
      "7. oauth_authorize(authorize_url, use_oob)",
      "8. oauth_listener(url)",
      "9. httpuv::startServer(use$host, use$port, list(call = listen))",
      "10. WebServer$new(host, port, app, quiet)",
      "11. initialize(...)",
      "12. stop(\"Failed to create server\")"
     ]
    }
   ],
   "source": [
    "yt_oauth(\"393819432447-99ogldra4adjr3ft0kj1it56hu0tm7m1.apps.googleusercontent.com\", \"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\", token = '')\n",
    "# yt_oauth(app_id, app_secret, token = '')"
   ]
  },
  {
   "cell_type": "code",
   "execution_count": null,
   "metadata": {
    "vscode": {
     "languageId": "r"
    }
   },
   "outputs": [],
   "source": []
  }
 ],
 "metadata": {
  "kernelspec": {
   "display_name": "R",
   "language": "R",
   "name": "ir"
  },
  "language_info": {
   "codemirror_mode": "r",
   "file_extension": ".r",
   "mimetype": "text/x-r-source",
   "name": "R",
   "pygments_lexer": "r",
   "version": "4.2.1"
  },
  "vscode": {
   "interpreter": {
    "hash": "8074281a9844ad316fa6bf500dfe1aa5c74d1faf032179153aaf16c6effa0e06"
   }
  }
 },
 "nbformat": 4,
 "nbformat_minor": 2
}
