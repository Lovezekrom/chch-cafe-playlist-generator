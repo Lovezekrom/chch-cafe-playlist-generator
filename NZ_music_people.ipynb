{
 "cells": [
  {
   "cell_type": "code",
   "execution_count": 1,
   "metadata": {
    "vscode": {
     "languageId": "r"
    }
   },
   "outputs": [
    {
     "name": "stderr",
     "output_type": "stream",
     "text": [
      "Loading required package: usethis\n",
      "\n",
      "── \u001b[1mAttaching packages\u001b[22m ─────────────────────────────────────── tidyverse 1.3.2 ──\n",
      "\u001b[32m✔\u001b[39m \u001b[34mggplot2\u001b[39m 3.3.6     \u001b[32m✔\u001b[39m \u001b[34mpurrr  \u001b[39m 0.3.4\n",
      "\u001b[32m✔\u001b[39m \u001b[34mtibble \u001b[39m 3.1.7     \u001b[32m✔\u001b[39m \u001b[34mdplyr  \u001b[39m 1.0.9\n",
      "\u001b[32m✔\u001b[39m \u001b[34mtidyr  \u001b[39m 1.2.0     \u001b[32m✔\u001b[39m \u001b[34mstringr\u001b[39m 1.4.0\n",
      "\u001b[32m✔\u001b[39m \u001b[34mreadr  \u001b[39m 2.1.2     \u001b[32m✔\u001b[39m \u001b[34mforcats\u001b[39m 0.5.1\n",
      "── \u001b[1mConflicts\u001b[22m ────────────────────────────────────────── tidyverse_conflicts() ──\n",
      "\u001b[31m✖\u001b[39m \u001b[34mdplyr\u001b[39m::\u001b[32mfilter()\u001b[39m masks \u001b[34mstats\u001b[39m::filter()\n",
      "\u001b[31m✖\u001b[39m \u001b[34mdplyr\u001b[39m::\u001b[32mlag()\u001b[39m    masks \u001b[34mstats\u001b[39m::lag()\n",
      "\n",
      "Attaching package: 'magrittr'\n",
      "\n",
      "\n",
      "The following object is masked from 'package:purrr':\n",
      "\n",
      "    set_names\n",
      "\n",
      "\n",
      "The following object is masked from 'package:tidyr':\n",
      "\n",
      "    extract\n",
      "\n",
      "\n",
      "\n",
      "Attaching package: 'rvest'\n",
      "\n",
      "\n",
      "The following object is masked from 'package:readr':\n",
      "\n",
      "    guess_encoding\n",
      "\n",
      "\n"
     ]
    }
   ],
   "source": [
    "# install.packages(\"magrittr\")\n",
    "# install.packages(\"purrr\")\n",
    "# install.packages(\"glue\")\n",
    "# install.packages(\"stringr\")\n",
    "# install.packages('spotifyr')\n",
    "library(devtools)\n",
    "library(spotifyr)\n",
    "library(tidyverse)\n",
    "library(magrittr) # better handling of pipes\n",
    "library(purrr) # to work with lists and map functions\n",
    "library(glue) # to paste strings\n",
    "library(stringr) # to hand strings\n",
    "library(rvest) # rvest makes scraping easier\n",
    "library(polite) # polite is the \"polite\" version of rvest\n",
    "library(xml2) # makes it easier to work with HTML and XML from R"
   ]
  },
  {
   "cell_type": "code",
   "execution_count": 108,
   "metadata": {
    "vscode": {
     "languageId": "r"
    }
   },
   "outputs": [],
   "source": [
    "# The website in html\n",
    "page = read_html(\"https://www.audioculture.co.nz/music_index?category=Person\")\n",
    "\n",
    "# Profile names\n",
    "Profiles = page %>% html_nodes(\".skippy-col-link\") %>% html_text()\n",
    "\n",
    "# Profile links\n",
    "Links = page %>% html_nodes(\".skippy-col-link\") %>% html_attr('href')\n",
    "\n",
    "# Dataframe of profile and associated link\n",
    "df = data.frame(Profiles, Links)\n",
    "\n",
    "# Prints NZ music profiles based on chars of given string\n",
    "create_profile_list = function(cafe_name) {\n",
    "    # Removes special symbols and whitespace from string\n",
    "    cleaned_string = gsub(\"([^A-Za-z0-9])+\", \"\", cafe_name)\n",
    "\n",
    "    # Splits string into list for iteration\n",
    "    char_list = strsplit(cleaned_string, \"\")[[1]]\n",
    "\n",
    "    # The list of NZ profiles based on cafe name\n",
    "    profile_list = data.frame()\n",
    "    # print(char_list)\n",
    "    for (char in char_list) {\n",
    "        # Converts char into upper case for REGEX pattern\n",
    "        upper_char = toupper(char)\n",
    "\n",
    "        # Converts char into lower case for REGEX pattern\n",
    "        lower_char = tolower(char)\n",
    "\n",
    "        # Creates list of profiles that match REGEX pattern (Starts with given char)\n",
    "        match_list = grep(glue('^[{upper_char}{lower_char}]'), Profiles, value = TRUE)\n",
    "        \n",
    "        # If the match list is not empty choose random profile from match list\n",
    "        if (length(match_list) != 0) {\n",
    "\n",
    "            profile_match = sample(match_list, 1)\n",
    "            \n",
    "            profile_discography = search_profile(profile_match)\n",
    "            # print(profile_discography)\n",
    "            profile_album_index = sample(nrow(profile_discography), 1) \n",
    "            profile_album = merge((data.frame(Character = upper_char, Profile = profile_match)), (profile_discography[profile_album_index,]))\n",
    "\n",
    "        } else {\n",
    "            # profile_discography = data.frame(Album = 's', Featuring = 's', Year = 's')\n",
    "            # profile_discography\n",
    "            # profile_album_index = 1\n",
    "         \n",
    "            profile_album = data.frame(Character = upper_char, Profile = NA_character_, Album = NA_character_, Featuring = NA_character_, Year = NA_character_)\n",
    "            # print(profile_match)\n",
    "            # print(dim(profile_list))\n",
    "            # print(dim(profile_album))\n",
    "        }\n",
    "\n",
    "        # profile_album = merge((data.frame(Profile = profile)), (profile_discography[profile_album_index,]))\n",
    "        \n",
    "        profile_list = rbind(profile_list, profile_album)\n",
    "    }\n",
    "    return(profile_list)\n",
    "}\n",
    "\n",
    "# Takes a profile link as input\n",
    "# Returns profile's discography with featuring artists as a dataframe\n",
    "get_discography = function(name_link) {\n",
    "    profile_discography_page = glue('https://www.audioculture.co.nz{name_link}/discography') %>% read_html()\n",
    "\n",
    "    Album     = profile_discography_page %>% html_nodes(\"[class='header']\") %>% html_text()\n",
    "    Featuring = profile_discography_page %>% html_nodes(\"[class='body']\")   %>% html_text()\n",
    "    Year      = profile_discography_page %>% html_nodes(\"[class='year']\")   %>% html_text()\n",
    "\n",
    "    return(data.frame(Album, Featuring, Year))\n",
    "}\n",
    "\n",
    "# Takes a profile name as input\n",
    "# Returns given name's discography (currenly no error handling if name not in dataframe)\n",
    "search_profile = function(name) {\n",
    "    name_link = (df %>% filter(str_detect(Profiles, name)))[[2]]\n",
    "\n",
    "    return(get_discography(name_link))\n",
    "}"
   ]
  },
  {
   "cell_type": "code",
   "execution_count": 107,
   "metadata": {
    "vscode": {
     "languageId": "r"
    }
   },
   "outputs": [
    {
     "name": "stdout",
     "output_type": "stream",
     "text": [
      "[1] 1\n",
      "[1] \"\"\n"
     ]
    },
    {
     "data": {
      "text/html": [
       "<table class=\"dataframe\">\n",
       "<caption>A data.frame: 14 × 3</caption>\n",
       "<thead>\n",
       "\t<tr><th scope=col>Album</th><th scope=col>Featuring</th><th scope=col>Year</th></tr>\n",
       "\t<tr><th scope=col>&lt;chr&gt;</th><th scope=col>&lt;chr&gt;</th><th scope=col>&lt;chr&gt;</th></tr>\n",
       "</thead>\n",
       "<tbody>\n",
       "\t<tr><td>I Wanna Know Summer Tour EP             </td><td>Dead Flowers (2)</td><td>    </td></tr>\n",
       "\t<tr><td>Dead Flowers                            </td><td>Dead Flowers (2)</td><td>1987</td></tr>\n",
       "\t<tr><td>Lisa                                    </td><td>Dead Flowers (2)</td><td>1992</td></tr>\n",
       "\t<tr><td>Be Someone / Underground                </td><td>Dead Flowers (2)</td><td>1993</td></tr>\n",
       "\t<tr><td>Plastic                                 </td><td>Dead Flowers (2)</td><td>1993</td></tr>\n",
       "\t<tr><td>Skin Of A Stone                         </td><td>Dead Flowers (2)</td><td>1993</td></tr>\n",
       "\t<tr><td>Sweetfish                               </td><td>Dead Flowers (2)</td><td>1994</td></tr>\n",
       "\t<tr><td>Watch Her Play                          </td><td>Dead Flowers (2)</td><td>1994</td></tr>\n",
       "\t<tr><td>Dead Boy                                </td><td>Dead Flowers (2)</td><td>1994</td></tr>\n",
       "\t<tr><td>Home                                    </td><td>Dead Flowers (2)</td><td>1994</td></tr>\n",
       "\t<tr><td>Not Ready                               </td><td>Dead Flowers (2)</td><td>1995</td></tr>\n",
       "\t<tr><td>You Drink The Water, I'll Drink The Wine</td><td>Dead Flowers (2)</td><td>1996</td></tr>\n",
       "\t<tr><td>Ain't It The Truth                      </td><td>Dead Flowers (2)</td><td>1997</td></tr>\n",
       "\t<tr><td>Dead Flowers                            </td><td>Dead Flowers (2)</td><td>1998</td></tr>\n",
       "</tbody>\n",
       "</table>\n"
      ],
      "text/latex": [
       "A data.frame: 14 × 3\n",
       "\\begin{tabular}{lll}\n",
       " Album & Featuring & Year\\\\\n",
       " <chr> & <chr> & <chr>\\\\\n",
       "\\hline\n",
       "\t I Wanna Know Summer Tour EP              & Dead Flowers (2) &     \\\\\n",
       "\t Dead Flowers                             & Dead Flowers (2) & 1987\\\\\n",
       "\t Lisa                                     & Dead Flowers (2) & 1992\\\\\n",
       "\t Be Someone / Underground                 & Dead Flowers (2) & 1993\\\\\n",
       "\t Plastic                                  & Dead Flowers (2) & 1993\\\\\n",
       "\t Skin Of A Stone                          & Dead Flowers (2) & 1993\\\\\n",
       "\t Sweetfish                                & Dead Flowers (2) & 1994\\\\\n",
       "\t Watch Her Play                           & Dead Flowers (2) & 1994\\\\\n",
       "\t Dead Boy                                 & Dead Flowers (2) & 1994\\\\\n",
       "\t Home                                     & Dead Flowers (2) & 1994\\\\\n",
       "\t Not Ready                                & Dead Flowers (2) & 1995\\\\\n",
       "\t You Drink The Water, I'll Drink The Wine & Dead Flowers (2) & 1996\\\\\n",
       "\t Ain't It The Truth                       & Dead Flowers (2) & 1997\\\\\n",
       "\t Dead Flowers                             & Dead Flowers (2) & 1998\\\\\n",
       "\\end{tabular}\n"
      ],
      "text/markdown": [
       "\n",
       "A data.frame: 14 × 3\n",
       "\n",
       "| Album &lt;chr&gt; | Featuring &lt;chr&gt; | Year &lt;chr&gt; |\n",
       "|---|---|---|\n",
       "| I Wanna Know Summer Tour EP              | Dead Flowers (2) | <!----> |\n",
       "| Dead Flowers                             | Dead Flowers (2) | 1987 |\n",
       "| Lisa                                     | Dead Flowers (2) | 1992 |\n",
       "| Be Someone / Underground                 | Dead Flowers (2) | 1993 |\n",
       "| Plastic                                  | Dead Flowers (2) | 1993 |\n",
       "| Skin Of A Stone                          | Dead Flowers (2) | 1993 |\n",
       "| Sweetfish                                | Dead Flowers (2) | 1994 |\n",
       "| Watch Her Play                           | Dead Flowers (2) | 1994 |\n",
       "| Dead Boy                                 | Dead Flowers (2) | 1994 |\n",
       "| Home                                     | Dead Flowers (2) | 1994 |\n",
       "| Not Ready                                | Dead Flowers (2) | 1995 |\n",
       "| You Drink The Water, I'll Drink The Wine | Dead Flowers (2) | 1996 |\n",
       "| Ain't It The Truth                       | Dead Flowers (2) | 1997 |\n",
       "| Dead Flowers                             | Dead Flowers (2) | 1998 |\n",
       "\n"
      ],
      "text/plain": [
       "   Album                                    Featuring        Year\n",
       "1  I Wanna Know Summer Tour EP              Dead Flowers (2)     \n",
       "2  Dead Flowers                             Dead Flowers (2) 1987\n",
       "3  Lisa                                     Dead Flowers (2) 1992\n",
       "4  Be Someone / Underground                 Dead Flowers (2) 1993\n",
       "5  Plastic                                  Dead Flowers (2) 1993\n",
       "6  Skin Of A Stone                          Dead Flowers (2) 1993\n",
       "7  Sweetfish                                Dead Flowers (2) 1994\n",
       "8  Watch Her Play                           Dead Flowers (2) 1994\n",
       "9  Dead Boy                                 Dead Flowers (2) 1994\n",
       "10 Home                                     Dead Flowers (2) 1994\n",
       "11 Not Ready                                Dead Flowers (2) 1995\n",
       "12 You Drink The Water, I'll Drink The Wine Dead Flowers (2) 1996\n",
       "13 Ain't It The Truth                       Dead Flowers (2) 1997\n",
       "14 Dead Flowers                             Dead Flowers (2) 1998"
      ]
     },
     "metadata": {},
     "output_type": "display_data"
    }
   ],
   "source": [
    "create_profile_list('abcdefghijklmnopqrstuvwxyz1234567890')\n",
    "# pog = search_profile('Dead Flowers')\n",
    "# pog\n",
    "# nrow(pog)"
   ]
  },
  {
   "cell_type": "code",
   "execution_count": 71,
   "metadata": {
    "vscode": {
     "languageId": "r"
    }
   },
   "outputs": [
    {
     "data": {
      "text/html": [
       "<style>\n",
       ".list-inline {list-style: none; margin:0; padding: 0}\n",
       ".list-inline>li {display: inline-block}\n",
       ".list-inline>li:not(:last-child)::after {content: \"\\00b7\"; padding: 0 .5ex}\n",
       "</style>\n",
       "<ol class=list-inline><li>2</li><li>2</li></ol>\n"
      ],
      "text/latex": [
       "\\begin{enumerate*}\n",
       "\\item 2\n",
       "\\item 2\n",
       "\\end{enumerate*}\n"
      ],
      "text/markdown": [
       "1. 2\n",
       "2. 2\n",
       "\n",
       "\n"
      ],
      "text/plain": [
       "[1] 2 2"
      ]
     },
     "metadata": {},
     "output_type": "display_data"
    }
   ],
   "source": [
    "# dim(data.frame(egg = c('d', 'd'), cih = c('s')))"
   ]
  },
  {
   "cell_type": "code",
   "execution_count": 207,
   "metadata": {
    "vscode": {
     "languageId": "r"
    }
   },
   "outputs": [
    {
     "data": {
      "text/html": [
       "0"
      ],
      "text/latex": [
       "0"
      ],
      "text/markdown": [
       "0"
      ],
      "text/plain": [
       "[1] 0"
      ]
     },
     "metadata": {},
     "output_type": "display_data"
    }
   ],
   "source": [
    "# g = data.frame(c = c('1'), s = c('w'))\n",
    "# # g\n",
    "# # nrow(g)\n",
    "sh = search_profile('Overlanders, The')\n",
    "nrow(sh)\n",
    "# xx = sh[1,][[1]]\n",
    "# # length(nrow(sh))\n",
    "# typeof(xx)\n",
    "# if (xx == 'NA') {\n",
    "#     print('pp')\n",
    "# }"
   ]
  },
  {
   "cell_type": "code",
   "execution_count": 82,
   "metadata": {
    "vscode": {
     "languageId": "r"
    }
   },
   "outputs": [],
   "source": [
    "Sys.setenv(SPOTIFY_CLIENT_ID = '9b159833741d4e9db4362eda2e3520b7')\n",
    "Sys.setenv(SPOTIFY_CLIENT_SECRET = 'db1a5685b9b1408783624a834c2973ab')\n",
    "\n",
    "access_token <- get_spotify_access_token()"
   ]
  },
  {
   "cell_type": "code",
   "execution_count": 74,
   "metadata": {
    "vscode": {
     "languageId": "r"
    }
   },
   "outputs": [],
   "source": [
    "profile_list = create_profile_list('qwertyuiopasdfghjklzxcvbnm1234567890')"
   ]
  },
  {
   "cell_type": "code",
   "execution_count": 58,
   "metadata": {
    "vscode": {
     "languageId": "r"
    }
   },
   "outputs": [
    {
     "data": {
      "text/html": [
       "'Quincy Conserve, The'"
      ],
      "text/latex": [
       "'Quincy Conserve, The'"
      ],
      "text/markdown": [
       "'Quincy Conserve, The'"
      ],
      "text/plain": [
       "[1] \"Quincy Conserve, The\""
      ]
     },
     "metadata": {},
     "output_type": "display_data"
    }
   ],
   "source": [
    "cat = profile_list[[1]]\n",
    "cat\n",
    "fart = get_artist_audio_features(cat)"
   ]
  },
  {
   "cell_type": "code",
   "execution_count": null,
   "metadata": {
    "vscode": {
     "languageId": "r"
    }
   },
   "outputs": [],
   "source": []
  }
 ],
 "metadata": {
  "kernelspec": {
   "display_name": "R",
   "language": "R",
   "name": "ir"
  },
  "language_info": {
   "codemirror_mode": "r",
   "file_extension": ".r",
   "mimetype": "text/x-r-source",
   "name": "R",
   "pygments_lexer": "r",
   "version": "4.2.1"
  },
  "vscode": {
   "interpreter": {
    "hash": "8074281a9844ad316fa6bf500dfe1aa5c74d1faf032179153aaf16c6effa0e06"
   }
  }
 },
 "nbformat": 4,
 "nbformat_minor": 2
}
