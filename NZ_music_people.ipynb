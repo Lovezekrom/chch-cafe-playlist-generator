{
 "cells": [
  {
   "cell_type": "code",
   "execution_count": 52,
   "metadata": {
    "vscode": {
     "languageId": "r"
    }
   },
   "outputs": [
    {
     "name": "stderr",
     "output_type": "stream",
     "text": [
      "Warning message:\n",
      "\"package 'devtools' is in use and will not be installed\"\n",
      "Downloading GitHub repo soodoku/tuber@HEAD\n",
      "\n"
     ]
    },
    {
     "name": "stdout",
     "output_type": "stream",
     "text": [
      "cli      (3.3.0 -> 3.4.1 ) [CRAN]\n",
      "vctrs    (0.4.1 -> 0.4.2 ) [CRAN]\n",
      "tibble   (3.1.7 -> 3.1.8 ) [CRAN]\n",
      "purrr    (0.3.4 -> 0.3.5 ) [CRAN]\n",
      "dplyr    (1.0.9 -> 1.0.10) [CRAN]\n",
      "jsonlite (1.8.0 -> 1.8.2 ) [CRAN]\n",
      "curl     (4.3.2 -> 4.3.3 ) [CRAN]\n",
      "tidyr    (1.2.0 -> 1.2.1 ) [CRAN]\n"
     ]
    },
    {
     "name": "stderr",
     "output_type": "stream",
     "text": [
      "Installing 8 packages: cli, vctrs, tibble, purrr, dplyr, jsonlite, curl, tidyr\n",
      "\n",
      "Warning message:\n",
      "\"packages 'tibble', 'purrr', 'dplyr', 'tidyr' are in use and will not be installed\"\n",
      "Installing packages into 'C:/Users/ezeck/AppData/Local/R/win-library/4.2'\n",
      "(as 'lib' is unspecified)\n",
      "\n"
     ]
    },
    {
     "name": "stdout",
     "output_type": "stream",
     "text": [
      "package 'cli' successfully unpacked and MD5 sums checked\n"
     ]
    },
    {
     "name": "stderr",
     "output_type": "stream",
     "text": [
      "Warning message:\n",
      "\"cannot remove prior installation of package 'cli'\"\n",
      "Warning message in file.copy(savedcopy, lib, recursive = TRUE):\n",
      "\"problem copying C:\\Users\\ezeck\\AppData\\Local\\R\\win-library\\4.2\\00LOCK\\cli\\libs\\x64\\cli.dll to C:\\Users\\ezeck\\AppData\\Local\\R\\win-library\\4.2\\cli\\libs\\x64\\cli.dll: Permission denied\"\n",
      "Warning message:\n",
      "\"restored 'cli'\"\n"
     ]
    },
    {
     "name": "stdout",
     "output_type": "stream",
     "text": [
      "package 'vctrs' successfully unpacked and MD5 sums checked\n"
     ]
    },
    {
     "name": "stderr",
     "output_type": "stream",
     "text": [
      "Warning message:\n",
      "\"cannot remove prior installation of package 'vctrs'\"\n",
      "Warning message in file.copy(savedcopy, lib, recursive = TRUE):\n",
      "\"problem copying C:\\Users\\ezeck\\AppData\\Local\\R\\win-library\\4.2\\00LOCK\\vctrs\\libs\\x64\\vctrs.dll to C:\\Users\\ezeck\\AppData\\Local\\R\\win-library\\4.2\\vctrs\\libs\\x64\\vctrs.dll: Permission denied\"\n",
      "Warning message:\n",
      "\"restored 'vctrs'\"\n"
     ]
    },
    {
     "name": "stdout",
     "output_type": "stream",
     "text": [
      "package 'jsonlite' successfully unpacked and MD5 sums checked\n"
     ]
    },
    {
     "name": "stderr",
     "output_type": "stream",
     "text": [
      "Warning message:\n",
      "\"cannot remove prior installation of package 'jsonlite'\"\n",
      "Warning message in file.copy(savedcopy, lib, recursive = TRUE):\n",
      "\"problem copying C:\\Users\\ezeck\\AppData\\Local\\R\\win-library\\4.2\\00LOCK\\jsonlite\\libs\\x64\\jsonlite.dll to C:\\Users\\ezeck\\AppData\\Local\\R\\win-library\\4.2\\jsonlite\\libs\\x64\\jsonlite.dll: Permission denied\"\n",
      "Warning message:\n",
      "\"restored 'jsonlite'\"\n"
     ]
    },
    {
     "name": "stdout",
     "output_type": "stream",
     "text": [
      "package 'curl' successfully unpacked and MD5 sums checked\n"
     ]
    },
    {
     "name": "stderr",
     "output_type": "stream",
     "text": [
      "Warning message:\n",
      "\"cannot remove prior installation of package 'curl'\"\n",
      "Warning message in file.copy(savedcopy, lib, recursive = TRUE):\n",
      "\"problem copying C:\\Users\\ezeck\\AppData\\Local\\R\\win-library\\4.2\\00LOCK\\curl\\libs\\x64\\curl.dll to C:\\Users\\ezeck\\AppData\\Local\\R\\win-library\\4.2\\curl\\libs\\x64\\curl.dll: Permission denied\"\n",
      "Warning message:\n",
      "\"restored 'curl'\"\n"
     ]
    },
    {
     "name": "stdout",
     "output_type": "stream",
     "text": [
      "\n",
      "The downloaded binary packages are in\n",
      "\tC:\\Users\\ezeck\\AppData\\Local\\Temp\\Rtmpwr4SRO\\downloaded_packages\n",
      "* checking for file 'C:\\Users\\ezeck\\AppData\\Local\\Temp\\Rtmpwr4SRO\\remotes222413d434c6\\soodoku-tuber-c609b27/DESCRIPTION' ... OK\n",
      "* preparing 'tuber':\n",
      "* checking DESCRIPTION meta-information ... OK\n",
      "* checking for LF line-endings in source and make files and shell scripts\n",
      "* checking for empty or unneeded directories\n",
      "Omitted 'LazyData' from DESCRIPTION\n",
      "* building 'tuber_0.9.9.tar.gz'\n",
      "\n"
     ]
    },
    {
     "name": "stderr",
     "output_type": "stream",
     "text": [
      "Installing package into 'C:/Users/ezeck/AppData/Local/R/win-library/4.2'\n",
      "(as 'lib' is unspecified)\n",
      "\n"
     ]
    }
   ],
   "source": [
    "# install.packages(\"magrittr\")\n",
    "# install.packages(\"purrr\")\n",
    "# install.packages(\"glue\")\n",
    "# install.packages(\"stringr\")\n",
    "\n",
    "# install.packages(\"devtools\")\n",
    "# devtools::install_github(\"soodoku/tuber\", build_vignettes = FALSE)\n",
    "library(tuber)\n",
    "library(tidyverse)\n",
    "library(magrittr) # better handling of pipes\n",
    "library(purrr) # to work with lists and map functions\n",
    "library(glue) # to paste strings\n",
    "library(stringr) # to hand strings\n",
    "library(rvest) # rvest makes scraping easier\n",
    "library(polite) # polite is the \"polite\" version of rvest\n",
    "library(xml2) # makes it easier to work with HTML and XML from R"
   ]
  },
  {
   "cell_type": "code",
   "execution_count": 34,
   "metadata": {
    "vscode": {
     "languageId": "r"
    }
   },
   "outputs": [],
   "source": [
    "# The website in html\n",
    "page = read_html(\"https://www.audioculture.co.nz/music_index?category=Person\")\n",
    "\n",
    "# Profile names\n",
    "Profile = page %>% html_nodes(\".skippy-col-link\") %>% html_text()\n",
    "\n",
    "# Profile links\n",
    "Link = page %>% html_nodes(\".skippy-col-link\") %>% html_attr('href')\n",
    "\n",
    "# Dataframe of profile and associated link\n",
    "df = data.frame(Profile, Link)\n",
    "\n",
    "# Prints NZ music profiles based on chars of given string\n",
    "create_profile_list = function(cafe_name) {\n",
    "    # Removes special symbols and whitespace from string\n",
    "    cleaned_string = gsub(\"([^A-Za-z0-9])+\", \"\", cafe_name)\n",
    "\n",
    "    # Splits string into list for iteration\n",
    "    char_list = strsplit(cleaned_string, \"\")[[1]]\n",
    "\n",
    "    # The list of NZ profiles based on cafe name\n",
    "    profile_list = list()\n",
    "\n",
    "    for (char in char_list) {\n",
    "        # Converts char into upper case for REGEX pattern\n",
    "        upper_char = toupper(char)\n",
    "\n",
    "        # Converts char into lower case for REGEX pattern\n",
    "        lower_char = tolower(char)\n",
    "\n",
    "        # Creates list of profiles that match REGEX pattern (Starts with given char)\n",
    "        match_list = grep(glue('^[{upper_char}{lower_char}]'), Profile, value = TRUE)\n",
    "\n",
    "        # If the match list is not empty choose random profile from match list\n",
    "        if (length(match_list) != 0) {\n",
    "            profile_list = append(profile_list, sample(match_list, 1))\n",
    "        }\n",
    "    }\n",
    "\n",
    "    return(profile_list)\n",
    "}\n",
    "\n",
    "# Takes a profile link as input\n",
    "# Returns profile's discography with featuring artists as a dataframe\n",
    "get_discography = function(x) {\n",
    "    profile_discography_page = glue('https://www.audioculture.co.nz{x}/discography') %>% read_html()\n",
    "\n",
    "    Album     = profile_discography_page %>% html_nodes(\"[class='header']\") %>% html_text()\n",
    "    Featuring = profile_discography_page %>% html_nodes(\"[class='body']\")   %>% html_text()\n",
    "    Year      = profile_discography_page %>% html_nodes(\"[class='year']\")   %>% html_text()\n",
    "\n",
    "    return(data.frame(Album, Featuring, Year))\n",
    "}\n",
    "\n",
    "# Takes a profile name as input\n",
    "# Returns given name's discography (currenly no error handling if name not in dataframe)\n",
    "search_profile = function(name) {\n",
    "    name_link = (df %>% filter(str_detect(Profile, name)))[[2]]\n",
    "\n",
    "    return(get_discography(name_link))\n",
    "}"
   ]
  },
  {
   "cell_type": "code",
   "execution_count": null,
   "metadata": {
    "vscode": {
     "languageId": "r"
    }
   },
   "outputs": [
    {
     "data": {
      "text/html": [
       "<ol>\n",
       "\t<li>'Bird Nest Roys'</li>\n",
       "\t<li>'Opensouls'</li>\n",
       "\t<li>'Nathan Haines'</li>\n",
       "\t<li>'Ormsby Brothers, The'</li>\n",
       "\t<li>'Broods'</li>\n",
       "\t<li>'Opensouls'</li>\n",
       "\t<li>'Crude'</li>\n",
       "\t<li>'Alastair Dougal'</li>\n",
       "\t<li>'Flak'</li>\n",
       "</ol>\n"
      ],
      "text/latex": [
       "\\begin{enumerate}\n",
       "\\item 'Bird Nest Roys'\n",
       "\\item 'Opensouls'\n",
       "\\item 'Nathan Haines'\n",
       "\\item 'Ormsby Brothers, The'\n",
       "\\item 'Broods'\n",
       "\\item 'Opensouls'\n",
       "\\item 'Crude'\n",
       "\\item 'Alastair Dougal'\n",
       "\\item 'Flak'\n",
       "\\end{enumerate}\n"
      ],
      "text/markdown": [
       "1. 'Bird Nest Roys'\n",
       "2. 'Opensouls'\n",
       "3. 'Nathan Haines'\n",
       "4. 'Ormsby Brothers, The'\n",
       "5. 'Broods'\n",
       "6. 'Opensouls'\n",
       "7. 'Crude'\n",
       "8. 'Alastair Dougal'\n",
       "9. 'Flak'\n",
       "\n",
       "\n"
      ],
      "text/plain": [
       "[[1]]\n",
       "[1] \"Bird Nest Roys\"\n",
       "\n",
       "[[2]]\n",
       "[1] \"Opensouls\"\n",
       "\n",
       "[[3]]\n",
       "[1] \"Nathan Haines\"\n",
       "\n",
       "[[4]]\n",
       "[1] \"Ormsby Brothers, The\"\n",
       "\n",
       "[[5]]\n",
       "[1] \"Broods\"\n",
       "\n",
       "[[6]]\n",
       "[1] \"Opensouls\"\n",
       "\n",
       "[[7]]\n",
       "[1] \"Crude\"\n",
       "\n",
       "[[8]]\n",
       "[1] \"Alastair Dougal\"\n",
       "\n",
       "[[9]]\n",
       "[1] \"Flak\"\n"
      ]
     },
     "metadata": {},
     "output_type": "display_data"
    }
   ],
   "source": [
    "create_profile_list('Bonobo Café')"
   ]
  },
  {
   "cell_type": "code",
   "execution_count": null,
   "metadata": {
    "vscode": {
     "languageId": "r"
    }
   },
   "outputs": [],
   "source": []
  }
 ],
 "metadata": {
  "kernelspec": {
   "display_name": "R",
   "language": "R",
   "name": "ir"
  },
  "language_info": {
   "codemirror_mode": "r",
   "file_extension": ".r",
   "mimetype": "text/x-r-source",
   "name": "R",
   "pygments_lexer": "r",
   "version": "4.2.1"
  },
  "orig_nbformat": 4,
  "vscode": {
   "interpreter": {
    "hash": "8074281a9844ad316fa6bf500dfe1aa5c74d1faf032179153aaf16c6effa0e06"
   }
  }
 },
 "nbformat": 4,
 "nbformat_minor": 2
}
