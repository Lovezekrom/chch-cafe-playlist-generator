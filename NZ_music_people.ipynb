{
 "cells": [
  {
   "cell_type": "code",
   "execution_count": 1,
   "metadata": {
    "vscode": {
     "languageId": "r"
    }
   },
   "outputs": [
    {
     "name": "stderr",
     "output_type": "stream",
     "text": [
      "── \u001b[1mAttaching packages\u001b[22m ─────────────────────────────────────── tidyverse 1.3.2 ──\n",
      "\u001b[32m✔\u001b[39m \u001b[34mggplot2\u001b[39m 3.3.6     \u001b[32m✔\u001b[39m \u001b[34mpurrr  \u001b[39m 0.3.4\n",
      "\u001b[32m✔\u001b[39m \u001b[34mtibble \u001b[39m 3.1.7     \u001b[32m✔\u001b[39m \u001b[34mdplyr  \u001b[39m 1.0.9\n",
      "\u001b[32m✔\u001b[39m \u001b[34mtidyr  \u001b[39m 1.2.0     \u001b[32m✔\u001b[39m \u001b[34mstringr\u001b[39m 1.4.0\n",
      "\u001b[32m✔\u001b[39m \u001b[34mreadr  \u001b[39m 2.1.2     \u001b[32m✔\u001b[39m \u001b[34mforcats\u001b[39m 0.5.1\n",
      "── \u001b[1mConflicts\u001b[22m ────────────────────────────────────────── tidyverse_conflicts() ──\n",
      "\u001b[31m✖\u001b[39m \u001b[34mdplyr\u001b[39m::\u001b[32mfilter()\u001b[39m masks \u001b[34mstats\u001b[39m::filter()\n",
      "\u001b[31m✖\u001b[39m \u001b[34mdplyr\u001b[39m::\u001b[32mlag()\u001b[39m    masks \u001b[34mstats\u001b[39m::lag()\n",
      "\n",
      "Attaching package: 'magrittr'\n",
      "\n",
      "\n",
      "The following object is masked from 'package:purrr':\n",
      "\n",
      "    set_names\n",
      "\n",
      "\n",
      "The following object is masked from 'package:tidyr':\n",
      "\n",
      "    extract\n",
      "\n",
      "\n",
      "\n",
      "Attaching package: 'rvest'\n",
      "\n",
      "\n",
      "The following object is masked from 'package:readr':\n",
      "\n",
      "    guess_encoding\n",
      "\n",
      "\n"
     ]
    }
   ],
   "source": [
    "# install.packages(\"magrittr\")\n",
    "# install.packages(\"purrr\")\n",
    "# install.packages(\"glue\")\n",
    "# install.packages(\"stringr\")\n",
    "library(tidyverse)\n",
    "library(magrittr) # better handling of pipes\n",
    "library(purrr) # to work with lists and map functions\n",
    "library(glue) # to paste strings\n",
    "library(stringr) # to hand strings\n",
    "library(rvest) # rvest makes scraping easier\n",
    "library(polite) # polite is the \"polite\" version of rvest\n",
    "library(xml2) # makes it easier to work with HTML and XML from R"
   ]
  },
  {
   "cell_type": "code",
   "execution_count": 2,
   "metadata": {
    "vscode": {
     "languageId": "r"
    }
   },
   "outputs": [],
   "source": [
    "# The website in html\n",
    "page = read_html(\"https://www.audioculture.co.nz/music_index?category=Person\")\n",
    "\n",
    "# Profile names\n",
    "Profile = page %>% html_nodes(\".skippy-col-link\") %>% html_text()\n",
    "\n",
    "# Profile links\n",
    "Link = page %>% html_nodes(\".skippy-col-link\") %>% html_attr('href')\n",
    "\n",
    "# Dataframe of profile and associated link\n",
    "df = data.frame(Profile, Link)\n",
    "\n",
    "# Takes a profile link as input\n",
    "# Returns profile labels (profile members and labels have the same class name, need to seperate)\n",
    "getLabels = function(x) {\n",
    "    return(glue('https://www.audioculture.co.nz{x}') %>% read_html() %>% html_nodes(\"[class='body fact']\") %>% html_text())\n",
    "}\n",
    "\n",
    "# Takes a profile link as input\n",
    "# Returns profile's discography\n",
    "getDiscography = function(x) {\n",
    "    return(glue('https://www.audioculture.co.nz{x}/discography') %>% read_html() %>% html_nodes(\"[class='header']\") %>% html_text())\n",
    "}\n",
    "\n",
    "# Takes a profile name as input\n",
    "# Returns given name's discography (currenly no error handling if name not in dataframe)\n",
    "searchProfile = function(name) {\n",
    "    name_link = (df %>% filter(str_detect(Profile, name)))[[2]]\n",
    "    return(getDiscography(name_link))\n",
    "}"
   ]
  },
  {
   "cell_type": "code",
   "execution_count": 3,
   "metadata": {
    "vscode": {
     "languageId": "r"
    }
   },
   "outputs": [
    {
     "data": {
      "text/html": [
       "<table class=\"dataframe\">\n",
       "<caption>A data.frame: 20 × 1</caption>\n",
       "<thead>\n",
       "\t<tr><th scope=col>Discography</th></tr>\n",
       "\t<tr><th scope=col>&lt;chr&gt;</th></tr>\n",
       "</thead>\n",
       "<tbody>\n",
       "\t<tr><td>Tennis Court                                  </td></tr>\n",
       "\t<tr><td>Royals                                        </td></tr>\n",
       "\t<tr><td>The Love Club EP                              </td></tr>\n",
       "\t<tr><td>Ribs                                          </td></tr>\n",
       "\t<tr><td>Team                                          </td></tr>\n",
       "\t<tr><td>Pure Heroine                                  </td></tr>\n",
       "\t<tr><td>Buzzcut Season                                </td></tr>\n",
       "\t<tr><td>Lorde                                         </td></tr>\n",
       "\t<tr><td>Live In Concert EP                            </td></tr>\n",
       "\t<tr><td>No Better                                     </td></tr>\n",
       "\t<tr><td>Yellow Flicker Beat                           </td></tr>\n",
       "\t<tr><td>Meltdown                                      </td></tr>\n",
       "\t<tr><td>Easy (Switch Screens)                         </td></tr>\n",
       "\t<tr><td>Magnets (The Remixes)                         </td></tr>\n",
       "\t<tr><td>BRITs 2016 Bowie Tribute [Live from the BRITs]</td></tr>\n",
       "\t<tr><td>Melodrama                                     </td></tr>\n",
       "\t<tr><td>Green Light                                   </td></tr>\n",
       "\t<tr><td>Sober                                         </td></tr>\n",
       "\t<tr><td>Liability                                     </td></tr>\n",
       "\t<tr><td>Supercut (El-P Remix)                         </td></tr>\n",
       "</tbody>\n",
       "</table>\n"
      ],
      "text/latex": [
       "A data.frame: 20 × 1\n",
       "\\begin{tabular}{l}\n",
       " Discography\\\\\n",
       " <chr>\\\\\n",
       "\\hline\n",
       "\t Tennis Court                                  \\\\\n",
       "\t Royals                                        \\\\\n",
       "\t The Love Club EP                              \\\\\n",
       "\t Ribs                                          \\\\\n",
       "\t Team                                          \\\\\n",
       "\t Pure Heroine                                  \\\\\n",
       "\t Buzzcut Season                                \\\\\n",
       "\t Lorde                                         \\\\\n",
       "\t Live In Concert EP                            \\\\\n",
       "\t No Better                                     \\\\\n",
       "\t Yellow Flicker Beat                           \\\\\n",
       "\t Meltdown                                      \\\\\n",
       "\t Easy (Switch Screens)                         \\\\\n",
       "\t Magnets (The Remixes)                         \\\\\n",
       "\t BRITs 2016 Bowie Tribute {[}Live from the BRITs{]}\\\\\n",
       "\t Melodrama                                     \\\\\n",
       "\t Green Light                                   \\\\\n",
       "\t Sober                                         \\\\\n",
       "\t Liability                                     \\\\\n",
       "\t Supercut (El-P Remix)                         \\\\\n",
       "\\end{tabular}\n"
      ],
      "text/markdown": [
       "\n",
       "A data.frame: 20 × 1\n",
       "\n",
       "| Discography &lt;chr&gt; |\n",
       "|---|\n",
       "| Tennis Court                                   |\n",
       "| Royals                                         |\n",
       "| The Love Club EP                               |\n",
       "| Ribs                                           |\n",
       "| Team                                           |\n",
       "| Pure Heroine                                   |\n",
       "| Buzzcut Season                                 |\n",
       "| Lorde                                          |\n",
       "| Live In Concert EP                             |\n",
       "| No Better                                      |\n",
       "| Yellow Flicker Beat                            |\n",
       "| Meltdown                                       |\n",
       "| Easy (Switch Screens)                          |\n",
       "| Magnets (The Remixes)                          |\n",
       "| BRITs 2016 Bowie Tribute [Live from the BRITs] |\n",
       "| Melodrama                                      |\n",
       "| Green Light                                    |\n",
       "| Sober                                          |\n",
       "| Liability                                      |\n",
       "| Supercut (El-P Remix)                          |\n",
       "\n"
      ],
      "text/plain": [
       "   Discography                                   \n",
       "1  Tennis Court                                  \n",
       "2  Royals                                        \n",
       "3  The Love Club EP                              \n",
       "4  Ribs                                          \n",
       "5  Team                                          \n",
       "6  Pure Heroine                                  \n",
       "7  Buzzcut Season                                \n",
       "8  Lorde                                         \n",
       "9  Live In Concert EP                            \n",
       "10 No Better                                     \n",
       "11 Yellow Flicker Beat                           \n",
       "12 Meltdown                                      \n",
       "13 Easy (Switch Screens)                         \n",
       "14 Magnets (The Remixes)                         \n",
       "15 BRITs 2016 Bowie Tribute [Live from the BRITs]\n",
       "16 Melodrama                                     \n",
       "17 Green Light                                   \n",
       "18 Sober                                         \n",
       "19 Liability                                     \n",
       "20 Supercut (El-P Remix)                         "
      ]
     },
     "metadata": {},
     "output_type": "display_data"
    }
   ],
   "source": [
    "Discography = searchProfile('Lorde')\n",
    "data.frame(Discography)"
   ]
  },
  {
   "cell_type": "code",
   "execution_count": null,
   "metadata": {
    "vscode": {
     "languageId": "r"
    }
   },
   "outputs": [],
   "source": []
  }
 ],
 "metadata": {
  "kernelspec": {
   "display_name": "R",
   "language": "R",
   "name": "ir"
  },
  "language_info": {
   "codemirror_mode": "r",
   "file_extension": ".r",
   "mimetype": "text/x-r-source",
   "name": "R",
   "pygments_lexer": "r",
   "version": "4.2.1"
  },
  "orig_nbformat": 4,
  "vscode": {
   "interpreter": {
    "hash": "8074281a9844ad316fa6bf500dfe1aa5c74d1faf032179153aaf16c6effa0e06"
   }
  }
 },
 "nbformat": 4,
 "nbformat_minor": 2
}
