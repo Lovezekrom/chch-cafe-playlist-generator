{
 "cells": [
  {
   "cell_type": "code",
   "execution_count": 1,
   "metadata": {
    "vscode": {
     "languageId": "r"
    }
   },
   "outputs": [
    {
     "name": "stderr",
     "output_type": "stream",
     "text": [
      "── \u001b[1mAttaching packages\u001b[22m ─────────────────────────────────────── tidyverse 1.3.2 ──\n",
      "\u001b[32m✔\u001b[39m \u001b[34mggplot2\u001b[39m 3.3.6     \u001b[32m✔\u001b[39m \u001b[34mpurrr  \u001b[39m 0.3.4\n",
      "\u001b[32m✔\u001b[39m \u001b[34mtibble \u001b[39m 3.1.7     \u001b[32m✔\u001b[39m \u001b[34mdplyr  \u001b[39m 1.0.9\n",
      "\u001b[32m✔\u001b[39m \u001b[34mtidyr  \u001b[39m 1.2.0     \u001b[32m✔\u001b[39m \u001b[34mstringr\u001b[39m 1.4.0\n",
      "\u001b[32m✔\u001b[39m \u001b[34mreadr  \u001b[39m 2.1.2     \u001b[32m✔\u001b[39m \u001b[34mforcats\u001b[39m 0.5.1\n",
      "── \u001b[1mConflicts\u001b[22m ────────────────────────────────────────── tidyverse_conflicts() ──\n",
      "\u001b[31m✖\u001b[39m \u001b[34mdplyr\u001b[39m::\u001b[32mfilter()\u001b[39m masks \u001b[34mstats\u001b[39m::filter()\n",
      "\u001b[31m✖\u001b[39m \u001b[34mdplyr\u001b[39m::\u001b[32mlag()\u001b[39m    masks \u001b[34mstats\u001b[39m::lag()\n",
      "\n",
      "Attaching package: 'magrittr'\n",
      "\n",
      "\n",
      "The following object is masked from 'package:purrr':\n",
      "\n",
      "    set_names\n",
      "\n",
      "\n",
      "The following object is masked from 'package:tidyr':\n",
      "\n",
      "    extract\n",
      "\n",
      "\n",
      "\n",
      "Attaching package: 'rvest'\n",
      "\n",
      "\n",
      "The following object is masked from 'package:readr':\n",
      "\n",
      "    guess_encoding\n",
      "\n",
      "\n"
     ]
    }
   ],
   "source": [
    "# install.packages(\"magrittr\")\n",
    "# install.packages(\"purrr\")\n",
    "# install.packages(\"glue\")\n",
    "# install.packages(\"stringr\")\n",
    "library(tidyverse)\n",
    "library(magrittr) # better handling of pipes\n",
    "library(purrr) # to work with lists and map functions\n",
    "library(glue) # to paste strings\n",
    "library(stringr) # to hand strings\n",
    "library(rvest) # rvest makes scraping easier\n",
    "library(polite) # polite is the \"polite\" version of rvest\n",
    "library(xml2) # makes it easier to work with HTML and XML from R"
   ]
  },
  {
   "cell_type": "code",
   "execution_count": 47,
   "metadata": {
    "vscode": {
     "languageId": "r"
    }
   },
   "outputs": [
    {
     "ename": "ERROR",
     "evalue": "Error in eval(parse(text = text, keep.source = FALSE), envir): argument \"x\" is missing, with no default\n",
     "output_type": "error",
     "traceback": [
      "Error in eval(parse(text = text, keep.source = FALSE), envir): argument \"x\" is missing, with no default\nTraceback:\n",
      "1. apply(link, 1, getLabels())",
      "2. match.fun(FUN)",
      "3. getLabels()",
      "4. glue(\"https://www.audioculture.co.nz{x}\") %>% read_html() %>% \n .     html_nodes(\"[class='body fact']\") %>% html_text()   # at line 7 of file <text>",
      "5. html_text(.)",
      "6. xml_text(x, trim = trim)",
      "7. html_nodes(., \"[class='body fact']\")",
      "8. html_elements(...)",
      "9. read_html(.)",
      "10. glue(\"https://www.audioculture.co.nz{x}\")",
      "11. glue_data(.x = NULL, ..., .sep = .sep, .envir = .envir, .open = .open, \n  .     .close = .close, .na = .na, .null = .null, .comment = .comment, \n  .     .literal = .literal, .transformer = .transformer, .trim = .trim)",
      "12. (function (expr) \n  . {\n  .     eval_func <- .transformer(expr, env) %||% .null\n  .     tryCatch(if (is.null(eval_func)) \n  .         NULL\n  .     else as.character(eval_func), error = function(e) {\n  .         if (is.function(eval_func)) {\n  .             message <- paste0(\"glue cannot interpolate functions into strings.\\n\", \n  .                 \"* object '\", expr, \"' is a function.\")\n  .             stop(message, call. = FALSE)\n  .         }\n  .         stop(e)\n  .     })\n  . })(\"x\")",
      "13. .transformer(expr, env) %||% .null",
      "14. .transformer(expr, env)",
      "15. eval(parse(text = text, keep.source = FALSE), envir)",
      "16. eval(parse(text = text, keep.source = FALSE), envir)"
     ]
    }
   ],
   "source": [
    "page = read_html(\"https://www.audioculture.co.nz/music_index?category=Person\")\n",
    "profile = page %>% html_nodes(\".skippy-col-link\") %>% html_text()\n",
    "link = page %>% html_nodes(\".skippy-col-link\") %>% html_attr('href')\n",
    "df = data.frame(profile, link)\n",
    "\n",
    "getLabels = function(x) {\n",
    "    return(glue('https://www.audioculture.co.nz{x}') %>% read_html() %>% html_nodes(\"[class='body fact']\") %>% html_text())\n",
    "}\n",
    "\n",
    "# link[1]\n",
    "# profile_url = glue('https://www.audioculture.co.nz{link[1]}')\n",
    "# profile_url\n",
    "# facts = profile_url %>% read_html() %>% html_nodes(\"[class='body fact']\") %>% html_text()\n",
    "\n",
    "# df$label = link %>% getLabels()\n",
    "# df\n",
    "apply(link, 1, getLabels)"
   ]
  },
  {
   "cell_type": "code",
   "execution_count": null,
   "metadata": {
    "vscode": {
     "languageId": "r"
    }
   },
   "outputs": [],
   "source": []
  }
 ],
 "metadata": {
  "kernelspec": {
   "display_name": "R",
   "language": "R",
   "name": "ir"
  },
  "language_info": {
   "codemirror_mode": "r",
   "file_extension": ".r",
   "mimetype": "text/x-r-source",
   "name": "R",
   "pygments_lexer": "r",
   "version": "4.2.1"
  },
  "orig_nbformat": 4,
  "vscode": {
   "interpreter": {
    "hash": "8074281a9844ad316fa6bf500dfe1aa5c74d1faf032179153aaf16c6effa0e06"
   }
  }
 },
 "nbformat": 4,
 "nbformat_minor": 2
}
