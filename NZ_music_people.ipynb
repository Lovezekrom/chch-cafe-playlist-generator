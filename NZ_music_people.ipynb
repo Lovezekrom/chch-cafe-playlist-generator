{
 "cells": [
  {
   "cell_type": "code",
   "execution_count": 1,
   "metadata": {
    "vscode": {
     "languageId": "r"
    }
   },
   "outputs": [
    {
     "name": "stderr",
     "output_type": "stream",
     "text": [
      "── \u001b[1mAttaching packages\u001b[22m ─────────────────────────────────────── tidyverse 1.3.2 ──\n",
      "\u001b[32m✔\u001b[39m \u001b[34mggplot2\u001b[39m 3.3.6     \u001b[32m✔\u001b[39m \u001b[34mpurrr  \u001b[39m 0.3.4\n",
      "\u001b[32m✔\u001b[39m \u001b[34mtibble \u001b[39m 3.1.7     \u001b[32m✔\u001b[39m \u001b[34mdplyr  \u001b[39m 1.0.9\n",
      "\u001b[32m✔\u001b[39m \u001b[34mtidyr  \u001b[39m 1.2.0     \u001b[32m✔\u001b[39m \u001b[34mstringr\u001b[39m 1.4.0\n",
      "\u001b[32m✔\u001b[39m \u001b[34mreadr  \u001b[39m 2.1.2     \u001b[32m✔\u001b[39m \u001b[34mforcats\u001b[39m 0.5.1\n",
      "── \u001b[1mConflicts\u001b[22m ────────────────────────────────────────── tidyverse_conflicts() ──\n",
      "\u001b[31m✖\u001b[39m \u001b[34mdplyr\u001b[39m::\u001b[32mfilter()\u001b[39m masks \u001b[34mstats\u001b[39m::filter()\n",
      "\u001b[31m✖\u001b[39m \u001b[34mdplyr\u001b[39m::\u001b[32mlag()\u001b[39m    masks \u001b[34mstats\u001b[39m::lag()\n",
      "\n",
      "Attaching package: 'magrittr'\n",
      "\n",
      "\n",
      "The following object is masked from 'package:purrr':\n",
      "\n",
      "    set_names\n",
      "\n",
      "\n",
      "The following object is masked from 'package:tidyr':\n",
      "\n",
      "    extract\n",
      "\n",
      "\n",
      "\n",
      "Attaching package: 'rvest'\n",
      "\n",
      "\n",
      "The following object is masked from 'package:readr':\n",
      "\n",
      "    guess_encoding\n",
      "\n",
      "\n"
     ]
    }
   ],
   "source": [
    "library(tidyverse)\n",
    "library(magrittr) # better handling of pipes\n",
    "library(purrr) # to work with lists and map functions\n",
    "library(glue) # to paste strings\n",
    "library(stringr) # to hand strings\n",
    "library(rvest) # rvest makes scraping easier\n",
    "library(polite) # polite is the \"polite\" version of rvest\n",
    "library(xml2) # makes it easier to work with HTML and XML from R"
   ]
  },
  {
   "cell_type": "code",
   "execution_count": 4,
   "metadata": {
    "vscode": {
     "languageId": "r"
    }
   },
   "outputs": [],
   "source": [
    "# The website in html\n",
    "audio_culture_page = read_html(\"https://www.audioculture.co.nz/music_index?category=Person\")\n",
    "\n",
    "# Profile names\n",
    "Profiles = audio_culture_page %>% html_nodes(\".skippy-col-link\") %>% html_text()\n",
    "\n",
    "# Profile links\n",
    "Links = audio_culture_page %>% html_nodes(\".skippy-col-link\") %>% html_attr('href')\n",
    "\n",
    "# Dataframe of profile and associated link\n",
    "df = data.frame(Profiles, Links)\n",
    "\n",
    "# Prints NZ music profiles based on chars of given string\n",
    "create_profile_list = function(cafe_name) {\n",
    "    # Removes special symbols and whitespace from string\n",
    "    cleaned_string = gsub(\"([^A-Za-z0-9])+\", \"\", cafe_name)\n",
    "\n",
    "    # Splits string into list for iteration\n",
    "    char_list = strsplit(cleaned_string, \"\")[[1]]\n",
    "\n",
    "    # The list of NZ profiles based on cafe name\n",
    "    profile_list = data.frame()\n",
    "    \n",
    "    # Iterate through every char in the given string\n",
    "    for (char in char_list) {\n",
    "        # Converts char into upper case for REGEX pattern\n",
    "        upper_char = toupper(char)\n",
    "\n",
    "        # Converts char into lower case for REGEX pattern\n",
    "        lower_char = tolower(char)\n",
    "\n",
    "        # Creates list of profiles that match REGEX pattern (Starts with given char)\n",
    "        match_list = grep(glue('^[{upper_char}{lower_char}]'), Profiles, value = TRUE)\n",
    "        \n",
    "        # If the match list is not empty choose random profile from match list\n",
    "        if (length(match_list) != 0) {\n",
    "            # Randomly selected profile\n",
    "            profile_match = sample(match_list, 1)\n",
    "            \n",
    "            # The profile's discography\n",
    "            profile_discography = search_profile(profile_match)\n",
    "            \n",
    "            # Randomly selects album index from discography\n",
    "            profile_album_index = sample(nrow(profile_discography), 1) \n",
    "\n",
    "            # Create data frame entry for profile_lsit\n",
    "            profile_album = merge((data.frame(Character = upper_char, Profile = profile_match)), (profile_discography[profile_album_index,]))\n",
    "\n",
    "        } else {\n",
    "            # If no match, create empty data frame entry for profile_list\n",
    "            profile_album = data.frame(Character = upper_char, Profile = NA_character_, Album = NA_character_, Featuring = NA_character_, Year = NA_character_)\n",
    "        }\n",
    "\n",
    "        # Appends profile_list with new profile\n",
    "        profile_list = rbind(profile_list, profile_album)\n",
    "    }\n",
    "    return(profile_list)\n",
    "}\n",
    "\n",
    "# Takes a profile link as input\n",
    "# Returns profile's discography with featuring artists as a dataframe\n",
    "get_discography = function(name_link) {\n",
    "    profile_discography_page = glue('https://www.audioculture.co.nz{name_link}/discography') %>% read_html()\n",
    "\n",
    "    Album     = profile_discography_page %>% html_nodes(\"[class='header']\") %>% html_text()\n",
    "    Featuring = profile_discography_page %>% html_nodes(\"[class='body']\")   %>% html_text()\n",
    "    Year      = profile_discography_page %>% html_nodes(\"[class='year']\")   %>% html_text()\n",
    "\n",
    "    # Data frame of the given profile's discography\n",
    "    discography_df = data.frame(Album, Featuring, Year)\n",
    "\n",
    "    # Replaces empty entries with NA\n",
    "    discography_df[discography_df == \"\"] = NA_character_\n",
    "\n",
    "    return(discography_df)\n",
    "}\n",
    "\n",
    "# Takes a profile name as input\n",
    "# Returns given name's discography (currenly no error handling if name not in dataframe)\n",
    "search_profile = function(name) {\n",
    "    name_link = (df %>% filter(str_detect(Profiles, name)))[[2]]\n",
    "\n",
    "    return(get_discography(name_link))\n",
    "}"
   ]
  },
  {
   "cell_type": "code",
   "execution_count": 12,
   "metadata": {
    "vscode": {
     "languageId": "r"
    }
   },
   "outputs": [
    {
     "data": {
      "text/html": [
       "<table class=\"dataframe\">\n",
       "<caption>A data.frame: 13 × 5</caption>\n",
       "<thead>\n",
       "\t<tr><th scope=col>Character</th><th scope=col>Profile</th><th scope=col>Album</th><th scope=col>Featuring</th><th scope=col>Year</th></tr>\n",
       "\t<tr><th scope=col>&lt;chr&gt;</th><th scope=col>&lt;chr&gt;</th><th scope=col>&lt;chr&gt;</th><th scope=col>&lt;chr&gt;</th><th scope=col>&lt;chr&gt;</th></tr>\n",
       "</thead>\n",
       "<tbody>\n",
       "\t<tr><td>D</td><td>Dam Native     </td><td>Aotearoa Nobody Does It Better              </td><td>Dam Native                                 </td><td>2010</td></tr>\n",
       "\t<tr><td>O</td><td>OMC            </td><td>Right On                                    </td><td>OMC                                        </td><td>1996</td></tr>\n",
       "\t<tr><td>W</td><td>Wahanui Wynyard</td><td>Sometimes When The Sun Shines               </td><td>The Village Gossip                         </td><td>NA  </td></tr>\n",
       "\t<tr><td>N</td><td><span style=white-space:pre-wrap>Ngaire         </span></td><td><span style=white-space:pre-wrap>To Sir With Dub                             </span></td><td><span style=white-space:pre-wrap>The Pakeha Project &amp; Ngaire                </span></td><td>1990</td></tr>\n",
       "\t<tr><td>S</td><td>Scribe         </td><td>Rhyme Book                                  </td><td>Scribe (2)                                 </td><td>2007</td></tr>\n",
       "\t<tr><td>T</td><td>Tony Hopkins   </td><td>Live At The London Bar                      </td><td>Phil Broadhurst, Tony Hopkins, Kevin Haines</td><td>1993</td></tr>\n",
       "\t<tr><td>A</td><td>Arthur Baysting</td><td>Age Of Elegance                             </td><td>The Umbrellas                              </td><td>1990</td></tr>\n",
       "\t<tr><td>I</td><td>Ike Metekingi  </td><td>American Patrol / Danube Waves              </td><td>The Maori Hi Five                          </td><td>NA  </td></tr>\n",
       "\t<tr><td>R</td><td>Rod Derrett    </td><td>Rugby, Racing And Beer                      </td><td>Rod Derrett, Chorus And Orchestra*         </td><td>1965</td></tr>\n",
       "\t<tr><td>S</td><td>Smoke, The     </td><td>Control Your Love                           </td><td>Smoke, The (2)                             </td><td>1968</td></tr>\n",
       "\t<tr><td>B</td><td>Barnaby Weir   </td><td>Afrophone / Rotten Apple                    </td><td>The Black Seeds                            </td><td>2010</td></tr>\n",
       "\t<tr><td>A</td><td>Anthony Ioasa  </td><td>Fall Down / Your Love / Tears Over The Years</td><td>Various                                    </td><td>2004</td></tr>\n",
       "\t<tr><td>R</td><td>Rochelle Vinsen</td><td>I Like Your Kind Of Love                    </td><td>Jim McNaught And Rochelle Vinsen           </td><td>1963</td></tr>\n",
       "</tbody>\n",
       "</table>\n"
      ],
      "text/latex": [
       "A data.frame: 13 × 5\n",
       "\\begin{tabular}{lllll}\n",
       " Character & Profile & Album & Featuring & Year\\\\\n",
       " <chr> & <chr> & <chr> & <chr> & <chr>\\\\\n",
       "\\hline\n",
       "\t D & Dam Native      & Aotearoa Nobody Does It Better               & Dam Native                                  & 2010\\\\\n",
       "\t O & OMC             & Right On                                     & OMC                                         & 1996\\\\\n",
       "\t W & Wahanui Wynyard & Sometimes When The Sun Shines                & The Village Gossip                          & NA  \\\\\n",
       "\t N & Ngaire          & To Sir With Dub                              & The Pakeha Project \\& Ngaire                 & 1990\\\\\n",
       "\t S & Scribe          & Rhyme Book                                   & Scribe (2)                                  & 2007\\\\\n",
       "\t T & Tony Hopkins    & Live At The London Bar                       & Phil Broadhurst, Tony Hopkins, Kevin Haines & 1993\\\\\n",
       "\t A & Arthur Baysting & Age Of Elegance                              & The Umbrellas                               & 1990\\\\\n",
       "\t I & Ike Metekingi   & American Patrol / Danube Waves               & The Maori Hi Five                           & NA  \\\\\n",
       "\t R & Rod Derrett     & Rugby, Racing And Beer                       & Rod Derrett, Chorus And Orchestra*          & 1965\\\\\n",
       "\t S & Smoke, The      & Control Your Love                            & Smoke, The (2)                              & 1968\\\\\n",
       "\t B & Barnaby Weir    & Afrophone / Rotten Apple                     & The Black Seeds                             & 2010\\\\\n",
       "\t A & Anthony Ioasa   & Fall Down / Your Love / Tears Over The Years & Various                                     & 2004\\\\\n",
       "\t R & Rochelle Vinsen & I Like Your Kind Of Love                     & Jim McNaught And Rochelle Vinsen            & 1963\\\\\n",
       "\\end{tabular}\n"
      ],
      "text/markdown": [
       "\n",
       "A data.frame: 13 × 5\n",
       "\n",
       "| Character &lt;chr&gt; | Profile &lt;chr&gt; | Album &lt;chr&gt; | Featuring &lt;chr&gt; | Year &lt;chr&gt; |\n",
       "|---|---|---|---|---|\n",
       "| D | Dam Native      | Aotearoa Nobody Does It Better               | Dam Native                                  | 2010 |\n",
       "| O | OMC             | Right On                                     | OMC                                         | 1996 |\n",
       "| W | Wahanui Wynyard | Sometimes When The Sun Shines                | The Village Gossip                          | NA   |\n",
       "| N | Ngaire          | To Sir With Dub                              | The Pakeha Project &amp; Ngaire                 | 1990 |\n",
       "| S | Scribe          | Rhyme Book                                   | Scribe (2)                                  | 2007 |\n",
       "| T | Tony Hopkins    | Live At The London Bar                       | Phil Broadhurst, Tony Hopkins, Kevin Haines | 1993 |\n",
       "| A | Arthur Baysting | Age Of Elegance                              | The Umbrellas                               | 1990 |\n",
       "| I | Ike Metekingi   | American Patrol / Danube Waves               | The Maori Hi Five                           | NA   |\n",
       "| R | Rod Derrett     | Rugby, Racing And Beer                       | Rod Derrett, Chorus And Orchestra*          | 1965 |\n",
       "| S | Smoke, The      | Control Your Love                            | Smoke, The (2)                              | 1968 |\n",
       "| B | Barnaby Weir    | Afrophone / Rotten Apple                     | The Black Seeds                             | 2010 |\n",
       "| A | Anthony Ioasa   | Fall Down / Your Love / Tears Over The Years | Various                                     | 2004 |\n",
       "| R | Rochelle Vinsen | I Like Your Kind Of Love                     | Jim McNaught And Rochelle Vinsen            | 1963 |\n",
       "\n"
      ],
      "text/plain": [
       "   Character Profile         Album                                       \n",
       "1  D         Dam Native      Aotearoa Nobody Does It Better              \n",
       "2  O         OMC             Right On                                    \n",
       "3  W         Wahanui Wynyard Sometimes When The Sun Shines               \n",
       "4  N         Ngaire          To Sir With Dub                             \n",
       "5  S         Scribe          Rhyme Book                                  \n",
       "6  T         Tony Hopkins    Live At The London Bar                      \n",
       "7  A         Arthur Baysting Age Of Elegance                             \n",
       "8  I         Ike Metekingi   American Patrol / Danube Waves              \n",
       "9  R         Rod Derrett     Rugby, Racing And Beer                      \n",
       "10 S         Smoke, The      Control Your Love                           \n",
       "11 B         Barnaby Weir    Afrophone / Rotten Apple                    \n",
       "12 A         Anthony Ioasa   Fall Down / Your Love / Tears Over The Years\n",
       "13 R         Rochelle Vinsen I Like Your Kind Of Love                    \n",
       "   Featuring                                   Year\n",
       "1  Dam Native                                  2010\n",
       "2  OMC                                         1996\n",
       "3  The Village Gossip                          NA  \n",
       "4  The Pakeha Project & Ngaire                 1990\n",
       "5  Scribe (2)                                  2007\n",
       "6  Phil Broadhurst, Tony Hopkins, Kevin Haines 1993\n",
       "7  The Umbrellas                               1990\n",
       "8  The Maori Hi Five                           NA  \n",
       "9  Rod Derrett, Chorus And Orchestra*          1965\n",
       "10 Smoke, The (2)                              1968\n",
       "11 The Black Seeds                             2010\n",
       "12 Various                                     2004\n",
       "13 Jim McNaught And Rochelle Vinsen            1963"
      ]
     },
     "metadata": {},
     "output_type": "display_data"
    }
   ],
   "source": [
    "create_profile_list('Downstairs Bar')"
   ]
  },
  {
   "cell_type": "code",
   "execution_count": null,
   "metadata": {
    "vscode": {
     "languageId": "r"
    }
   },
   "outputs": [],
   "source": []
  }
 ],
 "metadata": {
  "kernelspec": {
   "display_name": "R",
   "language": "R",
   "name": "ir"
  },
  "language_info": {
   "codemirror_mode": "r",
   "file_extension": ".r",
   "mimetype": "text/x-r-source",
   "name": "R",
   "pygments_lexer": "r",
   "version": "4.2.1"
  },
  "vscode": {
   "interpreter": {
    "hash": "8074281a9844ad316fa6bf500dfe1aa5c74d1faf032179153aaf16c6effa0e06"
   }
  }
 },
 "nbformat": 4,
 "nbformat_minor": 2
}
