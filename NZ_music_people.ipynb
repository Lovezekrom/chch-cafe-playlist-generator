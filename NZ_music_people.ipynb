{
 "cells": [
  {
   "cell_type": "code",
   "execution_count": 1,
   "metadata": {
    "vscode": {
     "languageId": "r"
    }
   },
   "outputs": [
    {
     "name": "stderr",
     "output_type": "stream",
     "text": [
      "── \u001b[1mAttaching packages\u001b[22m ─────────────────────────────────────── tidyverse 1.3.2 ──\n",
      "\u001b[32m✔\u001b[39m \u001b[34mggplot2\u001b[39m 3.3.6     \u001b[32m✔\u001b[39m \u001b[34mpurrr  \u001b[39m 0.3.4\n",
      "\u001b[32m✔\u001b[39m \u001b[34mtibble \u001b[39m 3.1.7     \u001b[32m✔\u001b[39m \u001b[34mdplyr  \u001b[39m 1.0.9\n",
      "\u001b[32m✔\u001b[39m \u001b[34mtidyr  \u001b[39m 1.2.0     \u001b[32m✔\u001b[39m \u001b[34mstringr\u001b[39m 1.4.0\n",
      "\u001b[32m✔\u001b[39m \u001b[34mreadr  \u001b[39m 2.1.2     \u001b[32m✔\u001b[39m \u001b[34mforcats\u001b[39m 0.5.1\n",
      "── \u001b[1mConflicts\u001b[22m ────────────────────────────────────────── tidyverse_conflicts() ──\n",
      "\u001b[31m✖\u001b[39m \u001b[34mdplyr\u001b[39m::\u001b[32mfilter()\u001b[39m masks \u001b[34mstats\u001b[39m::filter()\n",
      "\u001b[31m✖\u001b[39m \u001b[34mdplyr\u001b[39m::\u001b[32mlag()\u001b[39m    masks \u001b[34mstats\u001b[39m::lag()\n",
      "\n",
      "Attaching package: 'magrittr'\n",
      "\n",
      "\n",
      "The following object is masked from 'package:purrr':\n",
      "\n",
      "    set_names\n",
      "\n",
      "\n",
      "The following object is masked from 'package:tidyr':\n",
      "\n",
      "    extract\n",
      "\n",
      "\n",
      "\n",
      "Attaching package: 'rvest'\n",
      "\n",
      "\n",
      "The following object is masked from 'package:readr':\n",
      "\n",
      "    guess_encoding\n",
      "\n",
      "\n"
     ]
    }
   ],
   "source": [
    "# install.packages(\"magrittr\")\n",
    "# install.packages(\"purrr\")\n",
    "# install.packages(\"glue\")\n",
    "# install.packages(\"stringr\")\n",
    "library(tidyverse)\n",
    "library(magrittr) # better handling of pipes\n",
    "library(purrr) # to work with lists and map functions\n",
    "library(glue) # to paste strings\n",
    "library(stringr) # to hand strings\n",
    "library(rvest) # rvest makes scraping easier\n",
    "library(polite) # polite is the \"polite\" version of rvest\n",
    "library(xml2) # makes it easier to work with HTML and XML from R"
   ]
  },
  {
   "cell_type": "code",
   "execution_count": 7,
   "metadata": {
    "vscode": {
     "languageId": "r"
    }
   },
   "outputs": [],
   "source": [
    "# The website in html\n",
    "page = read_html(\"https://www.audioculture.co.nz/music_index?category=Person\")\n",
    "\n",
    "# Profile names\n",
    "Profile = page %>% html_nodes(\".skippy-col-link\") %>% html_text()\n",
    "\n",
    "# Profile links\n",
    "Link = page %>% html_nodes(\".skippy-col-link\") %>% html_attr('href')\n",
    "\n",
    "# Dataframe of profile and associated link\n",
    "df = data.frame(Profile, Link)\n",
    "\n",
    "# Takes a profile link as input\n",
    "# Returns profile labels (profile members and labels have the same class name, need to seperate)\n",
    "getLabels = function(x) {\n",
    "    return(glue('https://www.audioculture.co.nz{x}') %>% read_html() %>% html_nodes(\"[class='body fact']\") %>% html_text())\n",
    "}\n",
    "\n",
    "# Takes a profile link as input\n",
    "# Returns profile's discography with featuring artists as a dataframe\n",
    "getDiscography = function(x) {\n",
    "    Discography = glue('https://www.audioculture.co.nz{x}/discography') %>% read_html() %>% html_nodes(\"[class='header']\") %>% html_text()\n",
    "    Featuring = glue('https://www.audioculture.co.nz{x}/discography') %>% read_html() %>% html_nodes(\"[class='body']\") %>% html_text()\n",
    "    return(data.frame(Discography, Featuring))\n",
    "}\n",
    "\n",
    "# Takes a profile name as input\n",
    "# Returns given name's discography (currenly no error handling if name not in dataframe)\n",
    "searchProfile = function(name) {\n",
    "    name_link = (df %>% filter(str_detect(Profile, name)))[[2]]\n",
    "    return(getDiscography(name_link))\n",
    "}"
   ]
  },
  {
   "cell_type": "code",
   "execution_count": 9,
   "metadata": {
    "vscode": {
     "languageId": "r"
    }
   },
   "outputs": [
    {
     "data": {
      "text/html": [
       "<table class=\"dataframe\">\n",
       "<caption>A data.frame: 2 × 2</caption>\n",
       "<thead>\n",
       "\t<tr><th scope=col>Discography</th><th scope=col>Featuring</th></tr>\n",
       "\t<tr><th scope=col>&lt;chr&gt;</th><th scope=col>&lt;chr&gt;</th></tr>\n",
       "</thead>\n",
       "<tbody>\n",
       "\t<tr><td>Six Strings And A Sailboat</td><td>Jamie McDell</td></tr>\n",
       "\t<tr><td>Ask Me Anything           </td><td>Jamie McDell</td></tr>\n",
       "</tbody>\n",
       "</table>\n"
      ],
      "text/latex": [
       "A data.frame: 2 × 2\n",
       "\\begin{tabular}{ll}\n",
       " Discography & Featuring\\\\\n",
       " <chr> & <chr>\\\\\n",
       "\\hline\n",
       "\t Six Strings And A Sailboat & Jamie McDell\\\\\n",
       "\t Ask Me Anything            & Jamie McDell\\\\\n",
       "\\end{tabular}\n"
      ],
      "text/markdown": [
       "\n",
       "A data.frame: 2 × 2\n",
       "\n",
       "| Discography &lt;chr&gt; | Featuring &lt;chr&gt; |\n",
       "|---|---|\n",
       "| Six Strings And A Sailboat | Jamie McDell |\n",
       "| Ask Me Anything            | Jamie McDell |\n",
       "\n"
      ],
      "text/plain": [
       "  Discography                Featuring   \n",
       "1 Six Strings And A Sailboat Jamie McDell\n",
       "2 Ask Me Anything            Jamie McDell"
      ]
     },
     "metadata": {},
     "output_type": "display_data"
    }
   ],
   "source": [
    "searchProfile('Jamie McDell')\n"
   ]
  },
  {
   "cell_type": "code",
   "execution_count": null,
   "metadata": {
    "vscode": {
     "languageId": "r"
    }
   },
   "outputs": [],
   "source": []
  }
 ],
 "metadata": {
  "kernelspec": {
   "display_name": "R",
   "language": "R",
   "name": "ir"
  },
  "language_info": {
   "codemirror_mode": "r",
   "file_extension": ".r",
   "mimetype": "text/x-r-source",
   "name": "R",
   "pygments_lexer": "r",
   "version": "4.2.1"
  },
  "orig_nbformat": 4,
  "vscode": {
   "interpreter": {
    "hash": "8074281a9844ad316fa6bf500dfe1aa5c74d1faf032179153aaf16c6effa0e06"
   }
  }
 },
 "nbformat": 4,
 "nbformat_minor": 2
}
