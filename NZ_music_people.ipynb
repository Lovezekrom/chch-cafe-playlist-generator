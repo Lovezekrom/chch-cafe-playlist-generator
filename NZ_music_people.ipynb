{
 "cells": [
  {
   "cell_type": "code",
   "execution_count": 1,
   "metadata": {
    "vscode": {
     "languageId": "r"
    }
   },
   "outputs": [
    {
     "name": "stderr",
     "output_type": "stream",
     "text": [
      "── \u001b[1mAttaching packages\u001b[22m ─────────────────────────────────────── tidyverse 1.3.2 ──\n",
      "\u001b[32m✔\u001b[39m \u001b[34mggplot2\u001b[39m 3.3.6     \u001b[32m✔\u001b[39m \u001b[34mpurrr  \u001b[39m 0.3.4\n",
      "\u001b[32m✔\u001b[39m \u001b[34mtibble \u001b[39m 3.1.7     \u001b[32m✔\u001b[39m \u001b[34mdplyr  \u001b[39m 1.0.9\n",
      "\u001b[32m✔\u001b[39m \u001b[34mtidyr  \u001b[39m 1.2.0     \u001b[32m✔\u001b[39m \u001b[34mstringr\u001b[39m 1.4.0\n",
      "\u001b[32m✔\u001b[39m \u001b[34mreadr  \u001b[39m 2.1.2     \u001b[32m✔\u001b[39m \u001b[34mforcats\u001b[39m 0.5.1\n",
      "── \u001b[1mConflicts\u001b[22m ────────────────────────────────────────── tidyverse_conflicts() ──\n",
      "\u001b[31m✖\u001b[39m \u001b[34mdplyr\u001b[39m::\u001b[32mfilter()\u001b[39m masks \u001b[34mstats\u001b[39m::filter()\n",
      "\u001b[31m✖\u001b[39m \u001b[34mdplyr\u001b[39m::\u001b[32mlag()\u001b[39m    masks \u001b[34mstats\u001b[39m::lag()\n",
      "\n",
      "Attaching package: 'magrittr'\n",
      "\n",
      "\n",
      "The following object is masked from 'package:purrr':\n",
      "\n",
      "    set_names\n",
      "\n",
      "\n",
      "The following object is masked from 'package:tidyr':\n",
      "\n",
      "    extract\n",
      "\n",
      "\n",
      "\n",
      "Attaching package: 'rvest'\n",
      "\n",
      "\n",
      "The following object is masked from 'package:readr':\n",
      "\n",
      "    guess_encoding\n",
      "\n",
      "\n"
     ]
    }
   ],
   "source": [
    "# install.packages(\"magrittr\")\n",
    "# install.packages(\"purrr\")\n",
    "# install.packages(\"glue\")\n",
    "# install.packages(\"stringr\")\n",
    "library(tidyverse)\n",
    "library(magrittr) # better handling of pipes\n",
    "library(purrr) # to work with lists and map functions\n",
    "library(glue) # to paste strings\n",
    "library(stringr) # to hand strings\n",
    "library(rvest) # rvest makes scraping easier\n",
    "library(polite) # polite is the \"polite\" version of rvest\n",
    "library(xml2) # makes it easier to work with HTML and XML from R"
   ]
  },
  {
   "cell_type": "code",
   "execution_count": 43,
   "metadata": {
    "vscode": {
     "languageId": "r"
    }
   },
   "outputs": [
    {
     "data": {
      "text/html": [
       "'https://www.audioculture.co.nz/profile/the-1860-band'"
      ],
      "text/latex": [
       "'https://www.audioculture.co.nz/profile/the-1860-band'"
      ],
      "text/markdown": [
       "'https://www.audioculture.co.nz/profile/the-1860-band'"
      ],
      "text/plain": [
       "https://www.audioculture.co.nz/profile/the-1860-band"
      ]
     },
     "metadata": {},
     "output_type": "display_data"
    },
    {
     "data": {
      "text/html": [
       "<style>\n",
       ".list-inline {list-style: none; margin:0; padding: 0}\n",
       ".list-inline>li {display: inline-block}\n",
       ".list-inline>li:not(:last-child)::after {content: \"\\00b7\"; padding: 0 .5ex}\n",
       "</style>\n",
       "<ol class=list-inline><li>'\\nOde\\n'</li><li>'\\nRodger Fox - trombone\\n'</li><li>'\\nMartin Winch - guitar\\n'</li><li>'\\nPeter Blake - keyboards\\n'</li><li>'\\nBilly Brown - drums\\n'</li><li>'\\nRob Winch - bass\\n'</li><li>'\\nGeoff Culverwell - flugelhorn\\n'</li><li>'\\nDave Pearson - bass\\n'</li></ol>\n"
      ],
      "text/latex": [
       "\\begin{enumerate*}\n",
       "\\item '\\textbackslash{}nOde\\textbackslash{}n'\n",
       "\\item '\\textbackslash{}nRodger Fox - trombone\\textbackslash{}n'\n",
       "\\item '\\textbackslash{}nMartin Winch - guitar\\textbackslash{}n'\n",
       "\\item '\\textbackslash{}nPeter Blake - keyboards\\textbackslash{}n'\n",
       "\\item '\\textbackslash{}nBilly Brown - drums\\textbackslash{}n'\n",
       "\\item '\\textbackslash{}nRob Winch - bass\\textbackslash{}n'\n",
       "\\item '\\textbackslash{}nGeoff Culverwell - flugelhorn\\textbackslash{}n'\n",
       "\\item '\\textbackslash{}nDave Pearson - bass\\textbackslash{}n'\n",
       "\\end{enumerate*}\n"
      ],
      "text/markdown": [
       "1. '\\nOde\\n'\n",
       "2. '\\nRodger Fox - trombone\\n'\n",
       "3. '\\nMartin Winch - guitar\\n'\n",
       "4. '\\nPeter Blake - keyboards\\n'\n",
       "5. '\\nBilly Brown - drums\\n'\n",
       "6. '\\nRob Winch - bass\\n'\n",
       "7. '\\nGeoff Culverwell - flugelhorn\\n'\n",
       "8. '\\nDave Pearson - bass\\n'\n",
       "\n",
       "\n"
      ],
      "text/plain": [
       "[1] \"\\nOde\\n\"                           \"\\nRodger Fox - trombone\\n\"        \n",
       "[3] \"\\nMartin Winch - guitar\\n\"         \"\\nPeter Blake - keyboards\\n\"      \n",
       "[5] \"\\nBilly Brown - drums\\n\"           \"\\nRob Winch - bass\\n\"             \n",
       "[7] \"\\nGeoff Culverwell - flugelhorn\\n\" \"\\nDave Pearson - bass\\n\"          "
      ]
     },
     "metadata": {},
     "output_type": "display_data"
    }
   ],
   "source": [
    "url = \"https://www.audioculture.co.nz/music_index?category=Person\"\n",
    "page = read_html(url)\n",
    "profile = page %>% html_nodes(\".skippy-col-link\") %>% html_text()\n",
    "link = page %>% html_nodes(\".skippy-col-link\") %>% html_attr('href')\n",
    "df = tibble(profile, link)\n",
    "\n",
    "# link[1]\n",
    "profile_url = glue('https://www.audioculture.co.nz{link[1]}')\n",
    "# profile_url\n",
    "profile_url %>% read_html() %>% html_nodes(\"[class='body fact']\") %>% html_text()\n"
   ]
  },
  {
   "cell_type": "code",
   "execution_count": null,
   "metadata": {
    "vscode": {
     "languageId": "r"
    }
   },
   "outputs": [],
   "source": []
  }
 ],
 "metadata": {
  "kernelspec": {
   "display_name": "R",
   "language": "R",
   "name": "ir"
  },
  "language_info": {
   "codemirror_mode": "r",
   "file_extension": ".r",
   "mimetype": "text/x-r-source",
   "name": "R",
   "pygments_lexer": "r",
   "version": "4.2.1"
  },
  "orig_nbformat": 4,
  "vscode": {
   "interpreter": {
    "hash": "8074281a9844ad316fa6bf500dfe1aa5c74d1faf032179153aaf16c6effa0e06"
   }
  }
 },
 "nbformat": 4,
 "nbformat_minor": 2
}
