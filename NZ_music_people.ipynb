{
 "cells": [
  {
   "cell_type": "code",
   "execution_count": 1,
   "metadata": {
    "vscode": {
     "languageId": "r"
    }
   },
   "outputs": [
    {
     "name": "stderr",
     "output_type": "stream",
     "text": [
      "── \u001b[1mAttaching packages\u001b[22m ─────────────────────────────────────────────────────────────────────────────── tidyverse 1.3.2 ──\n",
      "\u001b[32m✔\u001b[39m \u001b[34mggplot2\u001b[39m 3.3.6     \u001b[32m✔\u001b[39m \u001b[34mpurrr  \u001b[39m 0.3.4\n",
      "\u001b[32m✔\u001b[39m \u001b[34mtibble \u001b[39m 3.1.7     \u001b[32m✔\u001b[39m \u001b[34mdplyr  \u001b[39m 1.0.9\n",
      "\u001b[32m✔\u001b[39m \u001b[34mtidyr  \u001b[39m 1.2.0     \u001b[32m✔\u001b[39m \u001b[34mstringr\u001b[39m 1.4.0\n",
      "\u001b[32m✔\u001b[39m \u001b[34mreadr  \u001b[39m 2.1.2     \u001b[32m✔\u001b[39m \u001b[34mforcats\u001b[39m 0.5.1\n",
      "── \u001b[1mConflicts\u001b[22m ────────────────────────────────────────────────────────────────────────────────── tidyverse_conflicts() ──\n",
      "\u001b[31m✖\u001b[39m \u001b[34mdplyr\u001b[39m::\u001b[32mfilter()\u001b[39m masks \u001b[34mstats\u001b[39m::filter()\n",
      "\u001b[31m✖\u001b[39m \u001b[34mdplyr\u001b[39m::\u001b[32mlag()\u001b[39m    masks \u001b[34mstats\u001b[39m::lag()\n",
      "\n",
      "Attaching package: 'magrittr'\n",
      "\n",
      "\n",
      "The following object is masked from 'package:purrr':\n",
      "\n",
      "    set_names\n",
      "\n",
      "\n",
      "The following object is masked from 'package:tidyr':\n",
      "\n",
      "    extract\n",
      "\n",
      "\n",
      "\n",
      "Attaching package: 'rvest'\n",
      "\n",
      "\n",
      "The following object is masked from 'package:readr':\n",
      "\n",
      "    guess_encoding\n",
      "\n",
      "\n"
     ]
    }
   ],
   "source": [
    "library(tidyverse)\n",
    "library(magrittr) # better handling of pipes\n",
    "library(purrr) # to work with lists and map functions\n",
    "library(glue) # to paste strings\n",
    "library(stringr) # to hand strings\n",
    "library(rvest) # rvest makes scraping easier\n",
    "library(polite) # polite is the \"polite\" version of rvest\n",
    "library(xml2) # makes it easier to work with HTML and XML from R"
   ]
  },
  {
   "cell_type": "code",
   "execution_count": 6,
   "metadata": {
    "vscode": {
     "languageId": "r"
    }
   },
   "outputs": [],
   "source": [
    "# The website in html\n",
    "audio_culture_page = read_html(\"https://www.audioculture.co.nz/music_index?category=Person\")\n",
    "\n",
    "# Profile names\n",
    "Profiles = audio_culture_page %>% html_nodes(\".skippy-col-link\") %>% html_text()\n",
    "\n",
    "# Profile links\n",
    "Links = audio_culture_page %>% html_nodes(\".skippy-col-link\") %>% html_attr('href')\n",
    "\n",
    "# Dataframe of profile and associated link\n",
    "df = data.frame(Profiles, Links)\n",
    "\n",
    "# Prints NZ music profiles based on chars of given string\n",
    "create_profile_list = function(cafe_name) {\n",
    "    # Removes special symbols and whitespace from string\n",
    "    cleaned_string = gsub(\"([^A-Za-z0-9])+\", \"\", cafe_name)\n",
    "\n",
    "    # Splits string into list for iteration\n",
    "    char_list = strsplit(cleaned_string, \"\")[[1]]\n",
    "\n",
    "    # The list of NZ profiles based on cafe name\n",
    "    profile_list = data.frame()\n",
    "    \n",
    "    # Iterate through every char in the given string\n",
    "    for (char in char_list) {\n",
    "        # Converts char into upper case for REGEX pattern\n",
    "        upper_char = toupper(char)\n",
    "\n",
    "        # Converts char into lower case for REGEX pattern\n",
    "        lower_char = tolower(char)\n",
    "\n",
    "        # Creates list of profiles that match REGEX pattern (Starts with given char)\n",
    "        match_list = grep(glue('^[{upper_char}{lower_char}]'), Profiles, value = TRUE)\n",
    "        \n",
    "        # If the match list is not empty choose random profile from match list\n",
    "        if (length(match_list) != 0) {\n",
    "                \n",
    "            # Does at most 5 attempts to find at least 1 album from a profile\n",
    "            for (i in 1:5) {\n",
    "                # Randomly selected profile\n",
    "                profile_match = sample(match_list, 1)\n",
    "\n",
    "                # The profile's discography\n",
    "                profile_discography = get_discography(profile_match)\n",
    "                \n",
    "                if (nrow(profile_discography) >= 1) {\n",
    "                    break()\n",
    "                }\n",
    "            }\n",
    "\n",
    "            # Sometimes profiles have empty discographies\n",
    "            if (nrow(profile_discography) == 0) {\n",
    "                profile_album = data.frame(Character = upper_char, \n",
    "                                           Profile = profile_match, \n",
    "                                           Album = NA_character_, \n",
    "                                           Featuring = NA_character_, \n",
    "                                           Year = NA_real_)\n",
    "            } else {\n",
    "                # profile_album_index = match(profile_discography[3] >= 2010)[2]\n",
    "\n",
    "\n",
    "                # Randomly selects album index from discography\n",
    "                profile_album_index = sample(nrow(profile_discography), 1) \n",
    "\n",
    "                # Create data frame entry for profile_lsit\n",
    "                profile_album = merge((data.frame(Character = upper_char, Profile = profile_match)), \n",
    "                                      (profile_discography[profile_album_index,]))\n",
    "            }\n",
    "            \n",
    "        } else {\n",
    "            # If no match, create empty data frame entry for profile_list\n",
    "            profile_album = data.frame(Character = upper_char, \n",
    "                                       Profile = NA_character_, \n",
    "                                       Album = NA_character_, \n",
    "                                       Featuring = NA_character_, \n",
    "                                       Year = NA_real_)\n",
    "        }\n",
    "\n",
    "        # Appends profile_list with new profile\n",
    "        profile_list = rbind(profile_list, profile_album)\n",
    "    }\n",
    "\n",
    "    return(profile_list)\n",
    "}\n",
    "\n",
    "# Takes a profile name as input\n",
    "# Returns given name's discography (currenly no error handling if name not in dataframe)\n",
    "get_discography = function(name) {\n",
    "    name_link = (df %>% filter(str_detect(Profiles, name)))[[2]][1]\n",
    "    \n",
    "    profile_discography_page = glue('https://www.audioculture.co.nz{name_link}/discography') %>% read_html()\n",
    "\n",
    "    Album     = profile_discography_page %>% html_nodes(\"[class='header']\") %>% html_text()\n",
    "    Featuring = profile_discography_page %>% html_nodes(\"[class='body']\")   %>% html_text()\n",
    "    Year      = profile_discography_page %>% html_nodes(\"[class='year']\")   %>% html_text() %>% as.numeric()\n",
    "    \n",
    "    # Replaces empty entries with NA\n",
    "    Album[Album == \"\"] = NA_character_\n",
    "\n",
    "    # Replaces empty entries with NA\n",
    "    Featuring[Featuring == \"\"] = NA_character_\n",
    "\n",
    "    # If the year length is less than 1000, replace with NA\n",
    "    Year[Year < 1000] = NA_real_\n",
    "    \n",
    "    # Data frame of the given profile's discography\n",
    "    discography_df = data.frame(Album, Featuring, Year)\n",
    "\n",
    "    return(discography_df %>% filter(Year >= 1000))\n",
    "}"
   ]
  },
  {
   "cell_type": "code",
   "execution_count": 8,
   "metadata": {
    "scrolled": false,
    "vscode": {
     "languageId": "r"
    }
   },
   "outputs": [
    {
     "data": {
      "text/html": [
       "<table class=\"dataframe\">\n",
       "<caption>A data.frame: 9 × 5</caption>\n",
       "<thead>\n",
       "\t<tr><th scope=col>Character</th><th scope=col>Profile</th><th scope=col>Album</th><th scope=col>Featuring</th><th scope=col>Year</th></tr>\n",
       "\t<tr><th scope=col>&lt;chr&gt;</th><th scope=col>&lt;chr&gt;</th><th scope=col>&lt;chr&gt;</th><th scope=col>&lt;chr&gt;</th><th scope=col>&lt;dbl&gt;</th></tr>\n",
       "</thead>\n",
       "<tbody>\n",
       "\t<tr><td>V</td><td>Val Murphy     </td><td>My Way Of Singing                              </td><td>Val Murphy       </td><td>1965</td></tr>\n",
       "\t<tr><td>I</td><td>Ike Metekingi  </td><td>Hippy Hippy Shake                              </td><td>The Maori Hi Five</td><td>1962</td></tr>\n",
       "\t<tr><td>C</td><td>Crowded House  </td><td>Into Temptation                                </td><td>Crowded House    </td><td>1988</td></tr>\n",
       "\t<tr><td>K</td><td>Kim Willoughby </td><td>Look Around Again/ Have You Ever Seen The Rain?</td><td>Kim Willoughby   </td><td>1990</td></tr>\n",
       "\t<tr><td>S</td><td>Sina           </td><td>Boy                                            </td><td>Sina*            </td><td>1998</td></tr>\n",
       "\t<tr><td>C</td><td>Creation       </td><td>Can't Help Myself                              </td><td>Creation (7)     </td><td>1972</td></tr>\n",
       "\t<tr><td>A</td><td>Ardijah        </td><td>The Best: PolyFonk                             </td><td>Ardijah          </td><td>2010</td></tr>\n",
       "\t<tr><td>F</td><td>Four Fours, The</td><td>From The Bottom Of My Heart / Stingray         </td><td>Four Fours       </td><td>1966</td></tr>\n",
       "\t<tr><td>E</td><td>Evasive Action </td><td>Imminent Impact                                </td><td>Evasive Action   </td><td>2008</td></tr>\n",
       "</tbody>\n",
       "</table>\n"
      ],
      "text/latex": [
       "A data.frame: 9 × 5\n",
       "\\begin{tabular}{lllll}\n",
       " Character & Profile & Album & Featuring & Year\\\\\n",
       " <chr> & <chr> & <chr> & <chr> & <dbl>\\\\\n",
       "\\hline\n",
       "\t V & Val Murphy      & My Way Of Singing                               & Val Murphy        & 1965\\\\\n",
       "\t I & Ike Metekingi   & Hippy Hippy Shake                               & The Maori Hi Five & 1962\\\\\n",
       "\t C & Crowded House   & Into Temptation                                 & Crowded House     & 1988\\\\\n",
       "\t K & Kim Willoughby  & Look Around Again/ Have You Ever Seen The Rain? & Kim Willoughby    & 1990\\\\\n",
       "\t S & Sina            & Boy                                             & Sina*             & 1998\\\\\n",
       "\t C & Creation        & Can't Help Myself                               & Creation (7)      & 1972\\\\\n",
       "\t A & Ardijah         & The Best: PolyFonk                              & Ardijah           & 2010\\\\\n",
       "\t F & Four Fours, The & From The Bottom Of My Heart / Stingray          & Four Fours        & 1966\\\\\n",
       "\t E & Evasive Action  & Imminent Impact                                 & Evasive Action    & 2008\\\\\n",
       "\\end{tabular}\n"
      ],
      "text/markdown": [
       "\n",
       "A data.frame: 9 × 5\n",
       "\n",
       "| Character &lt;chr&gt; | Profile &lt;chr&gt; | Album &lt;chr&gt; | Featuring &lt;chr&gt; | Year &lt;dbl&gt; |\n",
       "|---|---|---|---|---|\n",
       "| V | Val Murphy      | My Way Of Singing                               | Val Murphy        | 1965 |\n",
       "| I | Ike Metekingi   | Hippy Hippy Shake                               | The Maori Hi Five | 1962 |\n",
       "| C | Crowded House   | Into Temptation                                 | Crowded House     | 1988 |\n",
       "| K | Kim Willoughby  | Look Around Again/ Have You Ever Seen The Rain? | Kim Willoughby    | 1990 |\n",
       "| S | Sina            | Boy                                             | Sina*             | 1998 |\n",
       "| C | Creation        | Can't Help Myself                               | Creation (7)      | 1972 |\n",
       "| A | Ardijah         | The Best: PolyFonk                              | Ardijah           | 2010 |\n",
       "| F | Four Fours, The | From The Bottom Of My Heart / Stingray          | Four Fours        | 1966 |\n",
       "| E | Evasive Action  | Imminent Impact                                 | Evasive Action    | 2008 |\n",
       "\n"
      ],
      "text/plain": [
       "  Character Profile         Album                                          \n",
       "1 V         Val Murphy      My Way Of Singing                              \n",
       "2 I         Ike Metekingi   Hippy Hippy Shake                              \n",
       "3 C         Crowded House   Into Temptation                                \n",
       "4 K         Kim Willoughby  Look Around Again/ Have You Ever Seen The Rain?\n",
       "5 S         Sina            Boy                                            \n",
       "6 C         Creation        Can't Help Myself                              \n",
       "7 A         Ardijah         The Best: PolyFonk                             \n",
       "8 F         Four Fours, The From The Bottom Of My Heart / Stingray         \n",
       "9 E         Evasive Action  Imminent Impact                                \n",
       "  Featuring         Year\n",
       "1 Val Murphy        1965\n",
       "2 The Maori Hi Five 1962\n",
       "3 Crowded House     1988\n",
       "4 Kim Willoughby    1990\n",
       "5 Sina*             1998\n",
       "6 Creation (7)      1972\n",
       "7 Ardijah           2010\n",
       "8 Four Fours        1966\n",
       "9 Evasive Action    2008"
      ]
     },
     "metadata": {},
     "output_type": "display_data"
    }
   ],
   "source": [
    "create_profile_list(\"Vick's Cafe\")"
   ]
  },
  {
   "cell_type": "code",
   "execution_count": null,
   "metadata": {
    "vscode": {
     "languageId": "r"
    }
   },
   "outputs": [],
   "source": []
  }
 ],
 "metadata": {
  "kernelspec": {
   "display_name": "R",
   "language": "R",
   "name": "ir"
  },
  "language_info": {
   "codemirror_mode": "r",
   "file_extension": ".r",
   "mimetype": "text/x-r-source",
   "name": "R",
   "pygments_lexer": "r",
   "version": "4.2.1"
  },
  "vscode": {
   "interpreter": {
    "hash": "8074281a9844ad316fa6bf500dfe1aa5c74d1faf032179153aaf16c6effa0e06"
   }
  }
 },
 "nbformat": 4,
 "nbformat_minor": 2
}
