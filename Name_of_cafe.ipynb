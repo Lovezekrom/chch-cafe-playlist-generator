{
 "cells": [
  {
   "cell_type": "code",
   "execution_count": null,
   "id": "8f76d308-f7b1-4f85-9675-93d14d5231ec",
   "metadata": {},
   "outputs": [],
   "source": [
    "library(tidyverse)\n",
    "#this section is just gettign all of the liabarys that are needed \n",
    "library(rvest) # this is installing the requried library\n",
    "library(polite) # this library is jsut a better version of the rvest library \n",
    "library(xml2) # makes it easier to work with HTML and XML from R"
   ]
  },
  {
   "cell_type": "code",
   "execution_count": null,
   "id": "a8d3b3ce-5d86-4275-9a28-75908d96f7c0",
   "metadata": {},
   "outputs": [],
   "source": [
    "url <- \"https://neatplaces.co.nz/places/christchurch-canterbury/eat-drink?category=cafes\" # this is the base url from where the scraping starts\n",
    "page <- read_html(url)"
   ]
  },
  {
   "cell_type": "code",
   "execution_count": null,
   "id": "63039ef3-3e26-4ae5-83d2-fb332d561975",
   "metadata": {},
   "outputs": [],
   "source": [
    "names <- page %>%\n",
    "  html_nodes(\".list-item-title p\") %>%\n",
    "  html_text()\n",
    "\n",
    "names"
   ]
  },
  {
   "cell_type": "code",
   "execution_count": null,
   "id": "c4d610ce-1ddc-47c0-bd39-7af425ed91fd",
   "metadata": {},
   "outputs": [],
   "source": [
    "summary <- page %>%\n",
    "  html_nodes(\".summary\") %>%\n",
    "  html_text()\n",
    "summary %>%\n",
    " head()"
   ]
  },
  {
   "cell_type": "code",
   "execution_count": null,
   "id": "8b4ca57d-ac2a-40cd-b292-95ab389cb256",
   "metadata": {},
   "outputs": [],
   "source": [
    "cafe_name <- page %>% \n",
    "   html_nodes(\".list-item-title\") %>% \n",
    "   html_text()\n",
    "\n",
    "link <- page %>% \n",
    "  html_nodes(\".list-item a\") %>% \n",
    "  html_attr('href')\n",
    "\n",
    "test <- tibble(cafe_name, link)\n",
    "\n",
    "test %>%\n",
    "   head()"
   ]
  }
 ],
 "metadata": {
  "kernelspec": {
   "display_name": "R",
   "language": "R",
   "name": "ir"
  },
  "language_info": {
   "codemirror_mode": "r",
   "file_extension": ".r",
   "mimetype": "text/x-r-source",
   "name": "R",
   "pygments_lexer": "r",
   "version": "4.2.1"
  }
 },
 "nbformat": 4,
 "nbformat_minor": 5
}
